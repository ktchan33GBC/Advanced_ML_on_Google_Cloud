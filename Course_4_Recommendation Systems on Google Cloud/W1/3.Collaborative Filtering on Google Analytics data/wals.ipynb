{
 "cells": [
  {
   "cell_type": "markdown",
   "metadata": {
    "deletable": true,
    "editable": true
   },
   "source": [
    "# Collaborative Filtering on Google Analytics Data\n"
   ]
  },
  {
   "cell_type": "markdown",
   "metadata": {},
   "source": [
    "### Learning objectives\n",
    "1. Prepare the user-item matrix and use it with WALS.\n",
    "2. Train a `WALSMatrixFactorization` within TensorFlow locally and on AI Platform.\n",
    "3. Visualize the embedding vectors with principal components analysis.\n"
   ]
  },
  {
   "cell_type": "markdown",
   "metadata": {},
   "source": [
    "## Overview\n",
    "This notebook demonstrates how to implement a WALS matrix refactorization approach to do collaborative filtering.\n",
    "\n",
    "Each learning objective will correspond to a __#TODO__ in the notebook, where you will complete the notebook cell's code before running the cell. Refer to the [solution notebook](../solutions/wals.ipynb) for reference.\n"
   ]
  },
  {
   "cell_type": "code",
   "execution_count": 1,
   "metadata": {
    "collapsed": false,
    "deletable": true,
    "editable": true,
    "jupyter": {
     "outputs_hidden": false
    }
   },
   "outputs": [],
   "source": [
    "import os\n",
    "PROJECT = \"qwiklabs-gcp-02-8e309b272bc5\" # REPLACE WITH YOUR PROJECT ID\n",
    "BUCKET = \"qwiklabs-gcp-02-8e309b272bc5\" # REPLACE WITH YOUR BUCKET NAME\n",
    "REGION = \"us-central1\" # REPLACE WITH YOUR BUCKET REGION e.g. us-central1\n",
    "\n",
    "# Do not change these\n",
    "os.environ[\"PROJECT\"] = PROJECT\n",
    "os.environ[\"BUCKET\"] = BUCKET\n",
    "os.environ[\"REGION\"] = REGION\n",
    "os.environ[\"TFVERSION\"] = \"1.15\""
   ]
  },
  {
   "cell_type": "code",
   "execution_count": 2,
   "metadata": {
    "collapsed": false,
    "deletable": true,
    "editable": true,
    "jupyter": {
     "outputs_hidden": false
    }
   },
   "outputs": [
    {
     "name": "stderr",
     "output_type": "stream",
     "text": [
      "Updated property [core/project].\n",
      "Updated property [compute/region].\n"
     ]
    }
   ],
   "source": [
    "%%bash\n",
    "gcloud config set project $PROJECT\n",
    "gcloud config set compute/region $REGION"
   ]
  },
  {
   "cell_type": "code",
   "execution_count": 3,
   "metadata": {
    "collapsed": false,
    "deletable": true,
    "editable": true,
    "jupyter": {
     "outputs_hidden": false
    }
   },
   "outputs": [
    {
     "name": "stdout",
     "output_type": "stream",
     "text": [
      "1.15.5\n"
     ]
    }
   ],
   "source": [
    "import tensorflow as tf\n",
    "print(tf.__version__)"
   ]
  },
  {
   "cell_type": "markdown",
   "metadata": {
    "deletable": true,
    "editable": true
   },
   "source": [
    "## Create raw dataset\n",
    "<p>\n",
    "For collaborative filtering, you don't need to know anything about either the users or the content. Essentially, all you need to know is userId, itemId, and rating that the particular user gave the particular item.\n",
    "<p>\n",
    "In this case, you are working with newspaper articles. The company doesn't ask their users to rate the articles. However, you can use the time-spent on the page as a proxy for rating.\n",
    "<p>\n",
    "Normally, you would also add a time filter to this (\"latest 7 days\"), but your dataset is itself limited to a few days."
   ]
  },
  {
   "cell_type": "code",
   "execution_count": 4,
   "metadata": {
    "collapsed": false,
    "deletable": true,
    "editable": true,
    "jupyter": {
     "outputs_hidden": false
    }
   },
   "outputs": [
    {
     "data": {
      "text/html": [
       "<div>\n",
       "<style scoped>\n",
       "    .dataframe tbody tr th:only-of-type {\n",
       "        vertical-align: middle;\n",
       "    }\n",
       "\n",
       "    .dataframe tbody tr th {\n",
       "        vertical-align: top;\n",
       "    }\n",
       "\n",
       "    .dataframe thead th {\n",
       "        text-align: right;\n",
       "    }\n",
       "</style>\n",
       "<table border=\"1\" class=\"dataframe\">\n",
       "  <thead>\n",
       "    <tr style=\"text-align: right;\">\n",
       "      <th></th>\n",
       "      <th>visitorId</th>\n",
       "      <th>contentId</th>\n",
       "      <th>session_duration</th>\n",
       "    </tr>\n",
       "  </thead>\n",
       "  <tbody>\n",
       "    <tr>\n",
       "      <th>0</th>\n",
       "      <td>116565388154921489-14</td>\n",
       "      <td>299907267</td>\n",
       "      <td>11222</td>\n",
       "    </tr>\n",
       "    <tr>\n",
       "      <th>1</th>\n",
       "      <td>1802092803451558961-64</td>\n",
       "      <td>299823332</td>\n",
       "      <td>124013</td>\n",
       "    </tr>\n",
       "    <tr>\n",
       "      <th>2</th>\n",
       "      <td>182174453776900056-574</td>\n",
       "      <td>299825001</td>\n",
       "      <td>41966</td>\n",
       "    </tr>\n",
       "    <tr>\n",
       "      <th>3</th>\n",
       "      <td>2833099556829088331-1</td>\n",
       "      <td>98004211</td>\n",
       "      <td>127562</td>\n",
       "    </tr>\n",
       "    <tr>\n",
       "      <th>4</th>\n",
       "      <td>4206049710565789757-27</td>\n",
       "      <td>299582378</td>\n",
       "      <td>4055</td>\n",
       "    </tr>\n",
       "  </tbody>\n",
       "</table>\n",
       "</div>"
      ],
      "text/plain": [
       "                visitorId  contentId  session_duration\n",
       "0   116565388154921489-14  299907267             11222\n",
       "1  1802092803451558961-64  299823332            124013\n",
       "2  182174453776900056-574  299825001             41966\n",
       "3   2833099556829088331-1   98004211            127562\n",
       "4  4206049710565789757-27  299582378              4055"
      ]
     },
     "execution_count": 4,
     "metadata": {},
     "output_type": "execute_result"
    }
   ],
   "source": [
    "from google.cloud import bigquery\n",
    "bq = bigquery.Client(project = PROJECT)\n",
    "\n",
    "sql = \"\"\"\n",
    "WITH CTE_visitor_page_content AS (\n",
    "    SELECT\n",
    "        # Schema: https://support.google.com/analytics/answer/3437719?hl=en\n",
    "        # For a completely unique visit-session ID, you combine combination of fullVisitorId and visitNumber:\n",
    "        CONCAT(fullVisitorID,'-',CAST(visitNumber AS STRING)) AS visitorId,\n",
    "        (SELECT MAX(IF(index=10, value, NULL)) FROM UNNEST(hits.customDimensions)) AS latestContentId,  \n",
    "        (LEAD(hits.time, 1) OVER (PARTITION BY fullVisitorId ORDER BY hits.time ASC) - hits.time) AS session_duration \n",
    "    FROM\n",
    "        `cloud-training-demos.GA360_test.ga_sessions_sample`,   \n",
    "        UNNEST(hits) AS hits\n",
    "    WHERE \n",
    "        # only include hits on pages\n",
    "        hits.type = \"PAGE\"\n",
    "GROUP BY   \n",
    "        fullVisitorId,\n",
    "        visitNumber,\n",
    "        latestContentId,\n",
    "        hits.time )\n",
    "-- Aggregate web stats\n",
    "SELECT   \n",
    "    visitorId,\n",
    "    latestContentId as contentId,\n",
    "    SUM(session_duration) AS session_duration\n",
    "FROM\n",
    "    CTE_visitor_page_content\n",
    "WHERE\n",
    "    latestContentId IS NOT NULL \n",
    "GROUP BY\n",
    "    visitorId, \n",
    "    latestContentId\n",
    "HAVING \n",
    "    session_duration > 0\n",
    "\"\"\"\n",
    "\n",
    "df = bq.query(sql).to_dataframe()\n",
    "df.head()"
   ]
  },
  {
   "cell_type": "code",
   "execution_count": 5,
   "metadata": {
    "collapsed": false,
    "deletable": true,
    "editable": true,
    "jupyter": {
     "outputs_hidden": false
    }
   },
   "outputs": [
    {
     "data": {
      "text/html": [
       "<div>\n",
       "<style scoped>\n",
       "    .dataframe tbody tr th:only-of-type {\n",
       "        vertical-align: middle;\n",
       "    }\n",
       "\n",
       "    .dataframe tbody tr th {\n",
       "        vertical-align: top;\n",
       "    }\n",
       "\n",
       "    .dataframe thead th {\n",
       "        text-align: right;\n",
       "    }\n",
       "</style>\n",
       "<table border=\"1\" class=\"dataframe\">\n",
       "  <thead>\n",
       "    <tr style=\"text-align: right;\">\n",
       "      <th></th>\n",
       "      <th>session_duration</th>\n",
       "    </tr>\n",
       "  </thead>\n",
       "  <tbody>\n",
       "    <tr>\n",
       "      <th>count</th>\n",
       "      <td>2.831260e+05</td>\n",
       "    </tr>\n",
       "    <tr>\n",
       "      <th>mean</th>\n",
       "      <td>1.252495e+05</td>\n",
       "    </tr>\n",
       "    <tr>\n",
       "      <th>std</th>\n",
       "      <td>2.318833e+05</td>\n",
       "    </tr>\n",
       "    <tr>\n",
       "      <th>min</th>\n",
       "      <td>1.000000e+00</td>\n",
       "    </tr>\n",
       "    <tr>\n",
       "      <th>25%</th>\n",
       "      <td>1.622900e+04</td>\n",
       "    </tr>\n",
       "    <tr>\n",
       "      <th>50%</th>\n",
       "      <td>5.662950e+04</td>\n",
       "    </tr>\n",
       "    <tr>\n",
       "      <th>75%</th>\n",
       "      <td>1.276955e+05</td>\n",
       "    </tr>\n",
       "    <tr>\n",
       "      <th>max</th>\n",
       "      <td>7.690598e+06</td>\n",
       "    </tr>\n",
       "  </tbody>\n",
       "</table>\n",
       "</div>"
      ],
      "text/plain": [
       "       session_duration\n",
       "count      2.831260e+05\n",
       "mean       1.252495e+05\n",
       "std        2.318833e+05\n",
       "min        1.000000e+00\n",
       "25%        1.622900e+04\n",
       "50%        5.662950e+04\n",
       "75%        1.276955e+05\n",
       "max        7.690598e+06"
      ]
     },
     "execution_count": 5,
     "metadata": {},
     "output_type": "execute_result"
    }
   ],
   "source": [
    "stats = df.describe()\n",
    "stats"
   ]
  },
  {
   "cell_type": "code",
   "execution_count": 6,
   "metadata": {},
   "outputs": [
    {
     "data": {
      "text/plain": [
       "<AxesSubplot:ylabel='Frequency'>"
      ]
     },
     "execution_count": 6,
     "metadata": {},
     "output_type": "execute_result"
    },
    {
     "data": {
      "image/png": "[encoded data removed]",
      "text/plain": [
       "<Figure size 800x500 with 1 Axes>"
      ]
     },
     "metadata": {},
     "output_type": "display_data"
    }
   ],
   "source": [
    "df[[\"session_duration\"]].plot(kind=\"hist\", logy=True, bins=100, figsize=[8,5])"
   ]
  },
  {
   "cell_type": "code",
   "execution_count": 7,
   "metadata": {
    "collapsed": false,
    "deletable": true,
    "editable": true,
    "jupyter": {
     "outputs_hidden": false
    }
   },
   "outputs": [
    {
     "data": {
      "text/plain": [
       "<AxesSubplot:ylabel='Frequency'>"
      ]
     },
     "execution_count": 7,
     "metadata": {},
     "output_type": "execute_result"
    },
    {
     "data": {
      "image/png": "[encoded data removed]",
      "text/plain": [
       "<Figure size 800x500 with 1 Axes>"
      ]
     },
     "metadata": {},
     "output_type": "display_data"
    }
   ],
   "source": [
    "# The rating is the session_duration scaled to be in the range 0-1.  This will help with training.\n",
    "median = stats.loc[\"50%\", \"session_duration\"]\n",
    "df[\"rating\"] = 0.3 * df[\"session_duration\"] / median\n",
    "df.loc[df[\"rating\"] > 1, \"rating\"] = 1\n",
    "df[[\"rating\"]].plot(kind=\"hist\", logy=True, bins=100, figsize=[8,5])"
   ]
  },
  {
   "cell_type": "code",
   "execution_count": 8,
   "metadata": {
    "collapsed": false,
    "deletable": true,
    "editable": true,
    "jupyter": {
     "outputs_hidden": false
    }
   },
   "outputs": [],
   "source": [
    "del df[\"session_duration\"]"
   ]
  },
  {
   "cell_type": "code",
   "execution_count": 9,
   "metadata": {
    "collapsed": false,
    "deletable": true,
    "editable": true,
    "jupyter": {
     "outputs_hidden": false
    }
   },
   "outputs": [],
   "source": [
    "%%bash\n",
    "rm -rf data\n",
    "mkdir data"
   ]
  },
  {
   "cell_type": "code",
   "execution_count": 11,
   "metadata": {
    "collapsed": false,
    "deletable": true,
    "editable": true,
    "jupyter": {
     "outputs_hidden": false
    }
   },
   "outputs": [],
   "source": [
    "# TODO 1: Write object to a comma-separated values (csv) file.\n",
    "df.to_csv(path_or_buf = \"data/collab_raw.csv\", index = False, header = False)"
   ]
  },
  {
   "cell_type": "code",
   "execution_count": 12,
   "metadata": {
    "collapsed": false,
    "deletable": true,
    "editable": true,
    "jupyter": {
     "outputs_hidden": false
    }
   },
   "outputs": [
    {
     "name": "stdout",
     "output_type": "stream",
     "text": [
      "116565388154921489-14,299907267,0.059449580165814635\n",
      "1802092803451558961-64,299823332,0.6569703069954705\n",
      "182174453776900056-574,299825001,0.22231875612534102\n",
      "2833099556829088331-1,98004211,0.6757714618705798\n",
      "4206049710565789757-27,299582378,0.02148173655073769\n",
      "4298810713419783004-20,299800704,0.06613514157815273\n",
      "4298810713419783004-20,299800661,0.2791937064604137\n",
      "4428337971967081598-1166,299861625,0.5733107302730909\n",
      "4582378279778813615-451,299918253,0.3788467141684104\n",
      "4785247989121853774-76,299975649,0.43890021985007815\n"
     ]
    }
   ],
   "source": [
    "!head data/collab_raw.csv"
   ]
  },
  {
   "cell_type": "markdown",
   "metadata": {
    "deletable": true,
    "editable": true
   },
   "source": [
    "## Create dataset for WALS\n",
    "<p>\n",
    "The raw dataset (above) won't work for WALS:\n",
    "<ol>\n",
    "<li> The userId and itemId have to be 0,1,2 ... so you need to create a mapping from visitorId (in the raw data) to userId and contentId (in the raw data) to itemId.\n",
    "<li> You will need to save the above mapping to a file because at prediction time, you'll need to know how to map the contentId in the table above to the itemId.\n",
    "<li> You'll need two files: a \"rows\" dataset where all the items for a particular user are listed; and a \"columns\" dataset where all the users for a particular item are listed.\n",
    "</ol>\n",
    "\n",
    "<p>\n",
    "\n",
    "### Mapping"
   ]
  },
  {
   "cell_type": "code",
   "execution_count": 13,
   "metadata": {
    "collapsed": false,
    "deletable": true,
    "editable": true,
    "jupyter": {
     "outputs_hidden": false
    }
   },
   "outputs": [
    {
     "name": "stderr",
     "output_type": "stream",
     "text": [
      "/opt/conda/lib/python3.7/site-packages/ipykernel_launcher.py:13: DeprecationWarning: `np.float` is a deprecated alias for the builtin `float`. To silence this warning, use `float` by itself. Doing this will not modify any behavior and is safe. If you specifically wanted the numpy scalar type, use `np.float64` here.\n",
      "Deprecated in NumPy 1.20; for more details and guidance: https://numpy.org/devdocs/release/1.20.0-notes.html#deprecations\n",
      "  del sys.path[0]\n"
     ]
    }
   ],
   "source": [
    "import pandas as pd\n",
    "import numpy as np\n",
    "def create_mapping(values, filename):\n",
    "    with open(filename, 'w') as ofp:\n",
    "        value_to_id = {value:idx for idx, value in enumerate(values.unique())}\n",
    "        for value, idx in value_to_id.items():\n",
    "            ofp.write(\"{},{}\\n\".format(value, idx))\n",
    "    return value_to_id\n",
    "\n",
    "df = pd.read_csv(filepath_or_buffer = \"data/collab_raw.csv\",\n",
    "                 header = None,\n",
    "                 names = [\"visitorId\", \"contentId\", \"rating\"],\n",
    "                dtype = {\"visitorId\": str, \"contentId\": str, \"rating\": np.float})\n",
    "df.to_csv(path_or_buf = \"data/collab_raw.csv\", index = False, header = False)\n",
    "user_mapping = create_mapping(df[\"visitorId\"], \"data/users.csv\")\n",
    "item_mapping = create_mapping(df[\"contentId\"], \"data/items.csv\")"
   ]
  },
  {
   "cell_type": "code",
   "execution_count": 14,
   "metadata": {
    "collapsed": false,
    "deletable": true,
    "editable": true,
    "jupyter": {
     "outputs_hidden": false
    }
   },
   "outputs": [
    {
     "name": "stdout",
     "output_type": "stream",
     "text": [
      "==> data/collab_raw.csv <==\n",
      "116565388154921489-14,299907267,0.0594495801658146\n",
      "1802092803451558961-64,299823332,0.6569703069954705\n",
      "182174453776900056-574,299825001,0.222318756125341\n",
      "\n",
      "==> data/items.csv <==\n",
      "299907267,0\n",
      "299823332,1\n",
      "299825001,2\n",
      "\n",
      "==> data/users.csv <==\n",
      "116565388154921489-14,0\n",
      "1802092803451558961-64,1\n",
      "182174453776900056-574,2\n"
     ]
    }
   ],
   "source": [
    "!head -3 data/*.csv"
   ]
  },
  {
   "cell_type": "code",
   "execution_count": 15,
   "metadata": {
    "collapsed": false,
    "deletable": true,
    "editable": true,
    "jupyter": {
     "outputs_hidden": false
    }
   },
   "outputs": [],
   "source": [
    "df[\"userId\"] = df[\"visitorId\"].map(user_mapping.get)\n",
    "df[\"itemId\"] = df[\"contentId\"].map(item_mapping.get)"
   ]
  },
  {
   "cell_type": "code",
   "execution_count": 16,
   "metadata": {
    "collapsed": false,
    "deletable": true,
    "editable": true,
    "jupyter": {
     "outputs_hidden": false
    }
   },
   "outputs": [
    {
     "data": {
      "text/html": [
       "<div>\n",
       "<style scoped>\n",
       "    .dataframe tbody tr th:only-of-type {\n",
       "        vertical-align: middle;\n",
       "    }\n",
       "\n",
       "    .dataframe tbody tr th {\n",
       "        vertical-align: top;\n",
       "    }\n",
       "\n",
       "    .dataframe thead th {\n",
       "        text-align: right;\n",
       "    }\n",
       "</style>\n",
       "<table border=\"1\" class=\"dataframe\">\n",
       "  <thead>\n",
       "    <tr style=\"text-align: right;\">\n",
       "      <th></th>\n",
       "      <th>userId</th>\n",
       "      <th>itemId</th>\n",
       "      <th>rating</th>\n",
       "    </tr>\n",
       "  </thead>\n",
       "  <tbody>\n",
       "    <tr>\n",
       "      <th>0</th>\n",
       "      <td>0</td>\n",
       "      <td>0</td>\n",
       "      <td>0.059450</td>\n",
       "    </tr>\n",
       "    <tr>\n",
       "      <th>1</th>\n",
       "      <td>1</td>\n",
       "      <td>1</td>\n",
       "      <td>0.656970</td>\n",
       "    </tr>\n",
       "    <tr>\n",
       "      <th>2</th>\n",
       "      <td>2</td>\n",
       "      <td>2</td>\n",
       "      <td>0.222319</td>\n",
       "    </tr>\n",
       "    <tr>\n",
       "      <th>3</th>\n",
       "      <td>3</td>\n",
       "      <td>3</td>\n",
       "      <td>0.675771</td>\n",
       "    </tr>\n",
       "    <tr>\n",
       "      <th>4</th>\n",
       "      <td>4</td>\n",
       "      <td>4</td>\n",
       "      <td>0.021482</td>\n",
       "    </tr>\n",
       "  </tbody>\n",
       "</table>\n",
       "</div>"
      ],
      "text/plain": [
       "   userId  itemId    rating\n",
       "0       0       0  0.059450\n",
       "1       1       1  0.656970\n",
       "2       2       2  0.222319\n",
       "3       3       3  0.675771\n",
       "4       4       4  0.021482"
      ]
     },
     "execution_count": 16,
     "metadata": {},
     "output_type": "execute_result"
    }
   ],
   "source": [
    "mapped_df = df[[\"userId\", \"itemId\", \"rating\"]]\n",
    "mapped_df.to_csv(path_or_buf = \"data/collab_mapped.csv\", index = False, header = False)\n",
    "mapped_df.head()"
   ]
  },
  {
   "cell_type": "markdown",
   "metadata": {
    "deletable": true,
    "editable": true
   },
   "source": [
    "### Creating rows and columns datasets"
   ]
  },
  {
   "cell_type": "code",
   "execution_count": 17,
   "metadata": {
    "collapsed": false,
    "deletable": true,
    "editable": true,
    "jupyter": {
     "outputs_hidden": false
    }
   },
   "outputs": [
    {
     "data": {
      "text/html": [
       "<div>\n",
       "<style scoped>\n",
       "    .dataframe tbody tr th:only-of-type {\n",
       "        vertical-align: middle;\n",
       "    }\n",
       "\n",
       "    .dataframe tbody tr th {\n",
       "        vertical-align: top;\n",
       "    }\n",
       "\n",
       "    .dataframe thead th {\n",
       "        text-align: right;\n",
       "    }\n",
       "</style>\n",
       "<table border=\"1\" class=\"dataframe\">\n",
       "  <thead>\n",
       "    <tr style=\"text-align: right;\">\n",
       "      <th></th>\n",
       "      <th>userId</th>\n",
       "      <th>itemId</th>\n",
       "      <th>rating</th>\n",
       "    </tr>\n",
       "  </thead>\n",
       "  <tbody>\n",
       "    <tr>\n",
       "      <th>0</th>\n",
       "      <td>0</td>\n",
       "      <td>0</td>\n",
       "      <td>0.059450</td>\n",
       "    </tr>\n",
       "    <tr>\n",
       "      <th>1</th>\n",
       "      <td>1</td>\n",
       "      <td>1</td>\n",
       "      <td>0.656970</td>\n",
       "    </tr>\n",
       "    <tr>\n",
       "      <th>2</th>\n",
       "      <td>2</td>\n",
       "      <td>2</td>\n",
       "      <td>0.222319</td>\n",
       "    </tr>\n",
       "    <tr>\n",
       "      <th>3</th>\n",
       "      <td>3</td>\n",
       "      <td>3</td>\n",
       "      <td>0.675771</td>\n",
       "    </tr>\n",
       "    <tr>\n",
       "      <th>4</th>\n",
       "      <td>4</td>\n",
       "      <td>4</td>\n",
       "      <td>0.021482</td>\n",
       "    </tr>\n",
       "  </tbody>\n",
       "</table>\n",
       "</div>"
      ],
      "text/plain": [
       "   userId  itemId    rating\n",
       "0       0       0  0.059450\n",
       "1       1       1  0.656970\n",
       "2       2       2  0.222319\n",
       "3       3       3  0.675771\n",
       "4       4       4  0.021482"
      ]
     },
     "execution_count": 17,
     "metadata": {},
     "output_type": "execute_result"
    }
   ],
   "source": [
    "import pandas as pd\n",
    "import numpy as np\n",
    "mapped_df = pd.read_csv(filepath_or_buffer = \"data/collab_mapped.csv\", header = None, names = [\"userId\", \"itemId\", \"rating\"])\n",
    "mapped_df.head()"
   ]
  },
  {
   "cell_type": "code",
   "execution_count": 18,
   "metadata": {
    "collapsed": false,
    "deletable": true,
    "editable": true,
    "jupyter": {
     "outputs_hidden": false
    }
   },
   "outputs": [
    {
     "name": "stdout",
     "output_type": "stream",
     "text": [
      "5581 items, 118971 users, 283126 interactions\n"
     ]
    }
   ],
   "source": [
    "NITEMS = np.max(mapped_df[\"itemId\"]) + 1\n",
    "NUSERS = np.max(mapped_df[\"userId\"]) + 1\n",
    "mapped_df[\"rating\"] = np.round(mapped_df[\"rating\"].values, 2)\n",
    "print(\"{} items, {} users, {} interactions\".format( NITEMS, NUSERS, len(mapped_df) ))"
   ]
  },
  {
   "cell_type": "code",
   "execution_count": 19,
   "metadata": {
    "collapsed": false,
    "deletable": true,
    "editable": true,
    "jupyter": {
     "outputs_hidden": false
    }
   },
   "outputs": [
    {
     "name": "stdout",
     "output_type": "stream",
     "text": [
      "0 [    0   169   189 ...  2939 57138 35475] [0.06 0.38 0.44 ... 0.51 0.03 0.15]\n",
      "1 [    1    87   241   247   371   377   666  1059  1096  1308  1469  1536\n",
      "  2065  2082  2177  2285  2306  2665  2961  3026  3116  3206  3500  3598\n",
      "  3884  4048  4480  4813  4890  5188  5199  5332  5523  5598  5869  6210\n",
      "  6421  6500  6504  6664  6721  6823  6828  7065  7071  7081  7418  7524\n",
      "  7528  7609  7618  4709  7668  7975  8237  8525  8698  8786  8791  8813\n",
      "  8837  8988  9145  3432  9235  9244  9587  4077  9899  9971 10042 10061\n",
      " 10112 10267 10377  7780 10517 10574 10595 10725 10826 11198 11473 11958\n",
      "  6445  9209 12394   762 12452 12918  1538 13065 13118 13423  8087 13486\n",
      "  2327 13614 13802 13852 11355 14023 14084 14479 14649 12183 14749   716\n",
      " 14931 12676 15166 15440 15515  2060 16005 16119 16237 16311 16445 16586\n",
      "  3101  3104 16797 16828 16850 16931 16977 14595 17181 17297 17442 17522\n",
      " 17532 15152 15202 17747 17773 17803 17806  1533 18037 18077 18179  2156\n",
      " 18474 18666 18875 18999 14188 19156 19173 19427 19437 19485  6694 19642\n",
      " 19879 15043 15082 20043 20172 20186  1896 21304 21368 21382 21474 21477\n",
      " 19273 11871   193 21732 21886 21935  3931 12440 22201  1590 22601 22645\n",
      " 22654 22781  1976 23044  8182 23335  6138 21442 23861 23972 24085 19759\n",
      " 24329 24397 24813 15758 25155 25170 25187 25277 13750 25558 25573 25575\n",
      " 25602 25712 14398 26106 26150 26167 26403 26512  9951 15199 26733 26848\n",
      " 26903 27117 27182 27265 27519 14174 11828 28036 14837 28415 28416 28425\n",
      " 28492 28854 28921 29069 13574  5528 29392  5558  8401 29474 29521 29728\n",
      " 29749 11653 21693 30172 30213 30287 15044 30486 20001  7433 30692 10264\n",
      " 30853 27093  2105  2171 31335 31553 21292  6049 19294 14554  6866 12375\n",
      " 32335  4712 32732  7750 32912 32919 33026 33030 23143 33195 11170 13948\n",
      " 33511 33519 33547 11936 33821 33898   918 34251 34310 15533 34640 34701\n",
      " 18192 10813  2200 34936  2250 35050 11335 35342  3373 32244 35975 19946\n",
      "  7248 36114 36165 28796 32694  8045  8183 36700 36827 21338 37053 37056\n",
      " 23643 37111  6317 37209 37318   653 37605 37727  7257 37772 10241 37885\n",
      " 37933 37992 38057 10881 38313 38331 29322 10997 38369 29549 38532 31488\n",
      " 33739 28110 39183 39349 28549 39460 39676 20494 39788 36465 39858 40001\n",
      " 16123 40099  2546 40261 25741 40408 12299 22088 32298   885 36012  4248\n",
      " 20052 41087 39673 26845 41524 33148 41644 41813 13931 11687 21580 42409\n",
      " 42591 39443 10444  1692 42944 42995  5067 39878 43163 43242 43397  8751\n",
      " 16563 16685 28003 11976 43814 12217 34042 43880 39164 42569 44119 26905\n",
      " 44507 44630 44647 44766 44788 44837 44842 18986 45171 11905 45195 40566\n",
      " 33781 45227 37362 39049 45447 22060 43983  7062 45573  7111 20125 45787\n",
      "  4881 45977 46044 10720 46083 46192 23165 46310 38765 46608  6486 46782\n",
      " 17161 47022 26491 47107  7423 10216 13101 47617 41665 21172 31517 47812\n",
      "  5887 11509 27689 47893 48000 11811 48091 48182 48194 40840 48376 48584\n",
      " 48690 48822 43118 38433 23348 13969 49305 25624 21332 49388 46551 49515\n",
      " 49677 49717  4075 49844 28467 49931 22429  1360 50120 10367  7720 50179\n",
      " 26970  1881 50233 11027 43467 50729 50918 50948  3734 51068 51218 51242\n",
      " 51255 51291 51341 51383 24622 51474 51534  7899 51661 22908  2068 51746\n",
      " 31204 51820 51918 25444 51949 52180 42084 33750  6615 21802  3628  3934\n",
      " 17391  7218  4440 34416 52731  1821 42963 29221 53146 23187 53235 27565\n",
      " 25560 19046 53424 48149 53725 53772 12433 53889 17581   956 17590 53945\n",
      "  7335 54333 54434 29424 54521 54560 29767 54739 54780 54860 55147 55153\n",
      " 55164 55340 55433 18219  2009 55534 51767 55735 16262 16301 55863 55941\n",
      " 29801 37157 56034 32056 34027 40754 28343 56525 17872  1427 36221 44467\n",
      "  5118 34914 54412  5389 56946 57020  2909 57169] [0.66 0.13 0.04 0.21 1.   0.62 0.04 1.   0.77 0.01 0.59 0.01 0.18 1.\n",
      " 0.74 0.55 0.72 0.02 0.02 0.06 0.59 0.02 0.13 0.22 0.02 0.02 0.04 0.59\n",
      " 0.01 0.88 0.11 0.34 0.27 0.75 0.03 0.07 1.   0.8  0.06 1.   0.01 0.79\n",
      " 0.01 1.   0.02 0.03 0.58 1.   0.83 0.02 0.41 0.6  0.01 0.32 0.03 0.93\n",
      " 0.65 0.01 0.57 0.01 0.26 1.   0.01 0.01 0.34 0.32 0.24 0.35 0.01 0.76\n",
      " 0.38 0.85 1.   0.64 0.01 0.04 0.36 1.   0.27 0.24 0.02 0.03 0.   0.15\n",
      " 0.08 0.01 0.   0.93 0.02 0.21 0.2  0.35 0.05 0.04 0.71 0.08 0.05 0.02\n",
      " 1.   0.08 0.05 0.04 0.11 0.02 0.02 0.55 0.76 0.23 0.01 0.01 0.39 0.61\n",
      " 0.64 0.   0.79 0.32 0.12 0.38 0.9  0.16 0.73 0.02 0.17 0.22 0.2  0.05\n",
      " 0.01 0.16 0.04 0.01 0.02 0.13 0.57 0.04 0.37 0.48 0.01 0.11 0.03 1.\n",
      " 0.18 1.   0.1  0.6  0.17 0.85 0.19 0.02 0.56 0.35 0.32 0.16 1.   0.74\n",
      " 0.72 0.38 0.01 0.12 1.   0.8  0.02 0.18 0.7  0.73 0.02 0.73 0.66 0.74\n",
      " 0.59 0.03 0.01 0.01 1.   0.57 0.02 0.61 0.13 0.   0.63 0.09 0.24 1.\n",
      " 0.33 0.31 0.08 0.58 1.   0.51 0.35 0.54 0.01 0.   1.   1.   0.66 0.02\n",
      " 0.05 1.   1.   0.01 0.01 0.79 0.69 0.28 0.69 0.54 0.02 0.01 0.11 0.91\n",
      " 0.02 0.3  0.01 1.   1.   0.44 0.08 0.67 0.44 0.02 0.02 0.05 0.03 0.33\n",
      " 0.24 0.02 0.66 0.02 0.78 0.3  0.53 0.16 1.   0.67 0.48 0.02 0.43 0.1\n",
      " 0.04 1.   0.   0.23 0.22 0.01 0.47 0.17 0.33 0.5  0.01 0.74 0.01 0.79\n",
      " 0.08 1.   0.11 0.05 0.17 0.03 0.03 0.06 0.01 0.42 0.   0.08 0.83 0.14\n",
      " 0.17 0.02 0.01 0.1  0.02 0.06 1.   0.36 1.   0.03 0.27 0.12 0.01 0.38\n",
      " 0.38 0.03 0.02 0.29 0.1  0.01 0.   0.01 0.01 0.01 0.01 0.48 0.16 1.\n",
      " 0.01 0.12 0.42 0.   0.27 0.65 0.25 0.21 0.02 0.54 0.01 0.02 0.57 0.26\n",
      " 0.01 0.05 0.1  0.12 0.71 0.34 0.01 0.02 0.33 0.01 0.29 0.31 0.36 0.82\n",
      " 0.64 0.04 0.01 0.01 0.03 0.65 0.78 0.15 0.13 0.01 0.69 0.78 0.25 0.03\n",
      " 0.53 0.13 0.04 1.   0.66 0.09 0.91 0.01 1.   0.03 1.   0.05 0.1  0.16\n",
      " 0.03 0.21 0.19 0.57 0.02 0.05 0.2  0.01 0.02 0.14 0.15 0.37 0.02 0.41\n",
      " 0.17 0.04 0.7  0.15 0.57 0.   0.32 1.   0.13 0.78 0.49 0.06 1.   0.01\n",
      " 1.   0.01 0.13 1.   0.48 0.97 0.02 0.01 0.21 0.35 0.   0.04 0.05 0.43\n",
      " 0.53 0.72 0.32 0.01 1.   0.16 1.   0.12 0.63 0.65 0.09 0.01 0.19 0.01\n",
      " 0.01 0.19 1.   0.7  0.52 0.56 0.13 1.   1.   0.82 1.   0.02 0.08 1.\n",
      " 0.02 0.42 0.08 0.32 0.95 0.71 0.37 1.   0.02 0.71 0.53 0.06 0.12 0.38\n",
      " 0.02 0.08 1.   0.84 0.15 0.1  0.16 0.01 0.03 0.15 0.02 0.89 0.07 0.02\n",
      " 0.12 0.02 0.23 0.08 0.97 0.21 0.03 0.5  1.   0.01 0.06 1.   0.28 0.02\n",
      " 1.   1.   0.02 0.6  0.24 0.01 0.16 0.7  0.01 0.02 0.02 0.02 0.64 0.01\n",
      " 0.47 0.02 0.83 0.48 0.75 0.1  0.26 0.46 0.03 1.   0.25 0.01 0.63 0.03\n",
      " 0.14 0.78 0.36 0.01 0.54 1.   0.04 0.02 0.01 0.   0.54 0.07 0.77 0.03\n",
      " 0.6  0.02 0.26 0.06 1.   0.14 0.66 0.85 1.   0.39 0.43 1.   0.73 0.64\n",
      " 0.03 0.4  0.04 0.26 1.   0.03 0.   0.75 0.1  0.79 0.01 1.   0.25 0.25\n",
      " 0.44 0.22 0.7  0.05 0.03 0.02 0.03 0.4  0.01 1.   0.67 0.02 0.67 0.64\n",
      " 0.16 0.71 0.03 0.39 0.87 0.26 0.1  0.43 0.13 0.   0.32 0.85 0.79 1.\n",
      " 0.01 0.44 0.03 0.83 0.5  0.14 0.34 1.   0.03 1.   0.02 0.   0.07 0.11\n",
      " 0.66 0.38 0.63 0.01 0.01 0.55 1.   0.17 0.07 0.01]\n",
      "2 [    2   863  1117  1197  1319  1882  2268  2435  2531  3338  3496  3942\n",
      "  3996  4000  4231  4463  4628  5341  5389  5441  5595  5628  5913  6388\n",
      "  7246  7282  7394  7857  2054  8407  8565  8567  6086  8949  3634  9570\n",
      "  9695 10118  4485 10197 10310 10472 10822 11706 11827 12007 12217  9621\n",
      "  3877 12401   884 12557  9942  1007 12777 10332 13063 13077  4844  1691\n",
      " 13202 13282 13456 13690  6134 14442 14554  6767 15363 15516  7725 15805\n",
      "  5327  2441 16230 11190 16305 16513 16604 16691 16795 16816  9045   385\n",
      "  1000 17727  7464  1373 17940  4695 18023 18073 18167 18209 13289 18309\n",
      " 18421  2339 18596 18650 18681 18736  2670 11588 19422 19480 19788 17600\n",
      "  7580  1708 20467 20567 20691  5283 20846  5734 21294 21296 21329  6053\n",
      " 21509 21534 16863  3354  9222 14635 22504 22622 22653 22864 22909 15917\n",
      " 23015 23021 23267  5757  2886  2906 23630 23823 23994 24103   733  3963\n",
      " 12470 24399  4260 12800 24684 15871  5237 25103 10836 11021 25269  5889\n",
      "  6138  6488 26123   418  9411  9428   987 26731 26738 26779 26854 24867\n",
      " 25216 27603 21344 27796 27805 11793     1    15    17   140 14477 28034\n",
      "   952  1335 10696 18484  8319 29402  3171  9073 29959 30003 30045 30261\n",
      "  6841  3841 24173   707 30427 22390 30730 30921 30980  5029 31089 15976\n",
      " 18905  8751 27920 14502  3571 22111  7068   890 19981 28545  4416 32615\n",
      " 32783  5188  2156 33554 33647 33759 21844  3938 34148 34194 34208  9983\n",
      " 34374  4459 34432  1783 34733  7971 34920 11239 33349 35222 21403 35380\n",
      " 35600 17085 35657  6669 35765 28416 36008 30604 36171 28826 36299 20422\n",
      " 36579  5738 37144  3386   525 35865 37615  1248  1323  7559 37986 20493\n",
      " 38062 11206 31405 38651 19046 16621 22009 26637  4467 26769 28945 18193\n",
      " 39992  5405 11009 16221 33229  8744  6143 40586 26156 37438 34180 40872\n",
      "  4140 12713 41311 13253 15814 27361 41862  8924 33574 11785 42134 26540\n",
      " 12663 39415  4482  4772  5059  5092 25046  2369  2407  5730  5904  8776\n",
      " 37109 25993   314 43799 32229 10280 44309 24751  4931 44464 31148 31335\n",
      " 21153  5842  2745 44997  3173  3509 33949 14715  1019 45768 22519  7822\n",
      "  1830 15874  5311 46229 46249 44776 23241  3038 11669 46700 22109 12606\n",
      " 47073  4403  4405 34561  1597 47355  7975 31718 45487 24280  4522 48648\n",
      " 26796 18113 42974 41441 48933 10896  2417 20985 14498 24600  1770 50249\n",
      " 24967 10711 50461 50557 50598 50863  6740 30233 51071 36055 15440  4687\n",
      " 44486 13412 15941 46123 51742 35002 41645  5512  2467 25563 50762 29868\n",
      " 24124  7011 52694 32781 15931  2233 16375 41845 23501  2882 11690  3363\n",
      " 53621 30129 49690 42428  4014   885 53904 36364 36458 13310 13781  5789\n",
      " 14297 54796  6267  6471 40690 21885  3763  3839 22005  6925 14969  7202\n",
      " 15740 55549 46378  6057 16749 19521  6615 19555 37501 39428  1306 20335\n",
      "  8057  5251 14029 23519] [0.22 0.01 0.24 0.29 0.71 0.6  0.65 0.75 0.32 0.39 0.04 0.47 0.44 0.9\n",
      " 0.32 1.   0.04 0.36 0.06 0.2  0.3  0.39 0.52 0.16 0.54 0.4  0.1  0.22\n",
      " 0.04 0.01 0.15 0.25 0.55 0.49 0.18 1.   1.   0.09 0.2  0.06 0.22 0.42\n",
      " 0.18 0.04 1.   0.25 0.03 0.9  0.26 0.41 0.33 0.01 0.01 0.01 0.16 0.52\n",
      " 0.67 0.03 0.07 1.   0.4  0.41 0.59 0.7  0.78 0.31 1.   0.2  0.24 0.17\n",
      " 0.45 0.19 0.46 0.26 0.35 0.55 0.65 0.99 0.01 0.5  0.02 0.15 0.43 0.31\n",
      " 0.17 0.16 0.57 1.   0.44 0.16 1.   0.03 0.47 0.37 0.69 0.38 0.34 0.33\n",
      " 0.2  0.19 0.02 0.   0.33 0.07 0.17 0.05 0.   0.69 0.76 1.   0.19 0.01\n",
      " 0.02 0.36 0.88 0.32 0.98 0.23 0.03 0.36 1.   0.08 0.63 0.37 0.19 0.07\n",
      " 0.32 0.57 0.01 0.27 0.2  0.33 0.48 1.   1.   1.   0.36 0.21 0.33 0.55\n",
      " 0.53 0.   0.52 0.54 1.   0.03 0.46 0.01 0.04 0.7  0.05 0.83 1.   1.\n",
      " 0.27 0.07 0.36 0.8  0.22 0.05 1.   0.92 0.01 0.17 0.67 0.01 0.19 0.52\n",
      " 1.   0.25 0.47 0.56 0.23 0.61 0.38 0.94 1.   0.12 0.   0.44 0.17 0.41\n",
      " 0.49 0.29 0.5  0.03 1.   0.74 0.11 0.55 0.35 0.68 0.16 0.26 1.   0.56\n",
      " 0.63 0.09 0.36 0.02 0.01 0.67 0.14 0.5  0.45 1.   1.   0.76 0.3  0.53\n",
      " 0.01 0.01 0.13 0.39 0.44 0.41 0.29 0.1  0.4  0.83 1.   1.   0.27 1.\n",
      " 0.2  0.08 0.22 0.38 0.02 0.48 0.04 0.98 0.36 0.4  0.97 0.16 0.54 0.\n",
      " 0.23 0.02 0.24 0.02 0.31 0.36 0.33 0.16 0.53 0.07 0.15 0.08 0.04 0.27\n",
      " 0.82 0.01 0.42 0.37 0.15 0.18 0.38 0.75 0.67 0.29 0.   0.22 0.06 0.78\n",
      " 0.53 0.66 1.   0.05 0.25 0.53 1.   0.51 0.29 1.   0.6  0.81 0.43 0.48\n",
      " 0.33 0.03 0.6  0.4  0.24 0.33 0.4  0.   0.21 0.09 0.88 0.43 0.4  0.03\n",
      " 0.22 0.03 0.18 0.07 0.18 0.87 1.   0.08 0.24 0.38 1.   0.23 0.14 0.58\n",
      " 0.42 0.11 0.3  0.02 0.37 0.01 0.01 0.2  0.95 0.49 0.27 0.8  0.45 0.04\n",
      " 0.02 0.26 0.19 0.52 1.   0.05 0.68 0.27 0.15 0.72 0.11 0.98 0.33 0.06\n",
      " 0.24 0.02 0.68 1.   0.32 0.31 0.28 0.44 0.32 0.66 0.62 0.32 0.71 0.31\n",
      " 1.   1.   0.22 1.   0.16 0.33 0.79 0.52 0.19 1.   0.41 0.01 0.02 0.13\n",
      " 1.   1.   0.01 0.53 0.29 0.02 0.24 0.12 0.32 0.08 0.03 1.   0.59 0.\n",
      " 0.39 0.02 0.39 1.   0.52 0.15 1.   0.39 0.82 0.25 0.05 0.67 0.19 0.39\n",
      " 0.23 0.24 0.32 0.01 0.04 0.47 0.   0.32 0.53 0.44 0.02 0.02 0.67 0.01\n",
      " 0.3  0.37 0.98 0.06 0.14 0.13 0.52 0.8  1.   0.16 0.69 0.61 0.23 1.\n",
      " 0.01 0.6  0.36 0.35 0.23 0.24 0.53 0.08 0.22 0.35 0.26 0.23 0.54 0.02\n",
      " 0.11 1.   0.38 0.36 0.33 0.08 0.48 0.25 0.22 0.55 0.75 0.79 0.2  0.21]\n",
      "3 [3] [0.68]\n",
      "4 [    4  7033  7841 11016 11327 16953  6696 18632 21184 17575 24722  6581\n",
      " 25436 29922 29993  8282 31652 31885 13812 36422 38764 39297 32387 36705\n",
      " 41064 33482 41932 41954 43033 44066 34449 45150 45252   779 45901 46037\n",
      "  2724 49408  2001  1124  7747 45309   343 54109 43036 54500 45428] [0.02 0.5  0.37 0.52 0.03 1.   0.02 0.03 0.01 0.44 0.99 0.23 0.53 0.08\n",
      " 0.01 1.   0.28 0.13 0.03 0.57 0.49 0.16 1.   0.09 0.34 0.   0.53 1.\n",
      " 0.3  0.   1.   1.   0.33 0.77 0.22 0.   0.51 0.05 0.15 0.04 0.04 0.02\n",
      " 0.02 0.01 0.04 0.6  0.54]\n",
      "5 [    5   340   701   782  1232  1362  1640  1668  1719  1852  1910  2034\n",
      "  2072  2088  2308  2386   147  3647   433  4021  4038  4041  4167  4326\n",
      "  4359  4434  4489  1332  4558  4647  4805  4970  1912  5243  5406  5530\n",
      "  5710  5774  5785  5799  6370  6609  6646  6672  3778  7051  2020  8152\n",
      "  5549  8387  8463  8678  8820  8862  6112  9039  9400  9438  9573 10100\n",
      " 10394  4794 10409 10586 10817 11143 11428 11514 11696 11714  6237  9086\n",
      " 11896 11940   133 12134 12183 12203 12347 12516   939  1305  4470  1349\n",
      " 13158 13272 13310 13451 13675 13885 14115 14143 14445 14569 15080  9942\n",
      " 15188 15212 10219 15431 15645 15674 15770 10639  2103 15954 15976 16057\n",
      " 16232 16273 16499  2832 16534  2896 14292 16924 16925 16944   143 16967\n",
      " 16989 16999 17157 17202   600 12523   976 17645 17683 17821 17859 13101\n",
      "  1685  1694  1879 18257 18334 18363 18559 13593 18671 18747 18810 18896\n",
      " 18990 19110 16817  6406 14500 19864  1048 20147  1283 20371 20379 20635\n",
      " 10742 20855 20861 20909 21048 21120 21286 21405 21423 19190 21739 21800\n",
      " 22082  4014 22332  4548 22875 22963 23280 23331 23433 14425 23819 23820\n",
      " 23835 19465 12221 24297 24335 24346 24483  7442 24945 25060 25199 25292\n",
      " 13859 16372 25516 16467 25725 25777 25778 14335 26154 14875 26435 26442\n",
      "  1042 26537 26702 26825  4763 27071 20652  7999 27187 18477 27242 27404\n",
      " 14053 27679 27725 14230 27885  9060 16976  3497 28064 28102 28122 28211\n",
      " 14847 28351 12593 28642 28711 10280 24730  7883  7987 29267 29809 29846\n",
      " 30031 12057 19527 30211 30235 30495 30526 15241  7911  5196 31215 31475\n",
      " 31484 29597 14073 31634 31637 31650 31698  3163 31924 31929  6680 12222\n",
      " 32157   953 32420  9998  1074  7257 20201 32688 30995 15849 20789  2391\n",
      " 33300 16432 33544 27761 33613 33758 33761 12006  3635   419 24034 14877\n",
      " 34181 20070 20187 34428 34528 27050 34819 34850 34928 34991 27305 35350\n",
      "  2982  8867 14152    41  6455   180 12068 26218 14829 35817 35872 36011\n",
      " 36085 36126 36353 22782  5138 36556 11135 36779 36878 19044  6122 31766\n",
      " 11738 33658 16849 27982  6889 37541   784 37661 34294 38001 38022 10608\n",
      " 38151 38424 38528 38529 38541 31518 38594  3173 38845  9172 38924  6511\n",
      " 32062 32193 39204 39282 15021 15210 36195 39567 39823 39994  2326 23180\n",
      "  5743 40356 11726 40433 38858 16867 37319 12179 17274 40925  9924 20171\n",
      " 17881 17955 12984 41262 32813 41376  1953 41486 41534 13993 18970 35291\n",
      "  3419 21892  9808 42561 34456 24681  4861 43035 13506 29326  5561 43364\n",
      " 43405 43412  2986 16970 43776 43848 32205 44016 32369 37719 39484  1251\n",
      " 44241  7750  1713  2398 44760  8966  3219 45139   217 45432 12297 42429\n",
      " 28612 36157 39741  5026 46020 20958 46314  8531 46468 46675 46835 21952\n",
      " 46930 19929 47031   993 47150  7587 28800 15471 47301 47530  8199 35018\n",
      " 33189 47709  5693 47807  2803 47874 19186 48042  4440 13032 10421 32905\n",
      " 48979  2390 49095  8719 14048  8805 49398  6167  6197 49475 38878 43755\n",
      " 28421 49979 50140 26846 50290 35026  2377 44756 50619 14280 50841    19\n",
      " 14624 51044 24249 22140   889  4357 51385 51510 22660 10632 51664  2037\n",
      "  5312 51877  8426 29450 27583 40239 31593 52204 52365 52459  7029 24311\n",
      " 12631 52702 52796 51526 52923 38112 46121 31177 53121 18620 53264 11550\n",
      " 27894    17 53515 53673  9672   864 26415 28418 53931  9976 54094 15505\n",
      " 13070 54177  1975 10679  2108 16466 23449 14072 54659 11513 31664 29736\n",
      " 54701 54728 54843 28549  1329 55277 55302 32690 41470 55581 55621 25276\n",
      " 44724 55749 23258  2632 13935  8782 55892  8832 25690 38775  3223 56012\n",
      " 56090 39224 49791 35900 56385 56451 12747 32552  1367  1526 56621 56671\n",
      " 56693 56716 29033 56800 56853  8192 56914 55766 23323  5826 57041 57098\n",
      " 14140 14224] [0.07 0.28 0.   0.53 0.09 0.27 0.88 0.53 0.03 0.2  0.48 0.27 0.33 0.01\n",
      " 0.27 1.   0.33 0.2  0.27 0.25 0.3  0.32 0.34 0.17 0.37 0.77 0.69 0.23\n",
      " 0.05 0.44 0.19 0.2  0.82 0.31 0.63 0.52 1.   0.07 0.47 0.23 0.57 0.26\n",
      " 0.09 0.15 0.54 0.02 0.25 0.1  0.17 0.23 0.08 0.22 0.88 1.   0.24 0.52\n",
      " 0.01 1.   0.31 0.04 0.07 0.27 0.49 0.07 0.58 0.69 1.   0.16 0.2  0.65\n",
      " 0.2  0.23 0.64 0.88 0.33 1.   0.26 0.   0.23 0.27 0.19 0.87 0.26 0.45\n",
      " 0.01 0.38 0.16 0.64 0.65 0.43 0.64 0.13 0.56 0.23 0.98 0.14 0.3  0.18\n",
      " 0.33 0.04 0.22 0.49 1.   0.02 0.45 0.51 0.4  1.   0.22 0.17 0.16 0.78\n",
      " 0.24 0.03 0.48 0.29 0.08 0.29 0.29 0.64 1.   0.01 1.   0.74 0.07 0.16\n",
      " 0.27 0.22 0.54 0.68 0.01 0.54 1.   0.02 0.14 0.11 0.83 0.1  0.24 0.71\n",
      " 0.93 0.43 0.13 0.29 0.07 0.02 0.14 0.13 1.   0.01 0.65 0.11 0.16 1.\n",
      " 0.61 0.02 0.72 0.17 1.   1.   1.   0.24 0.02 0.12 0.17 0.43 1.   0.28\n",
      " 0.16 0.43 1.   0.56 0.72 0.02 0.06 0.3  0.1  0.21 0.24 0.34 0.53 0.15\n",
      " 0.29 1.   0.47 0.23 1.   0.05 0.23 0.02 0.24 0.28 0.27 0.21 0.18 0.5\n",
      " 1.   0.56 0.19 0.54 0.22 0.16 0.42 0.01 0.31 0.11 0.56 0.29 0.24 1.\n",
      " 1.   0.29 0.07 0.34 0.52 0.02 0.03 0.16 0.24 0.43 0.05 0.93 0.48 0.39\n",
      " 0.41 0.68 0.22 1.   0.59 1.   0.57 0.32 0.4  0.65 0.48 0.28 0.25 0.05\n",
      " 0.48 1.   0.3  0.3  1.   0.56 0.36 0.06 0.16 0.24 0.48 0.53 0.43 0.\n",
      " 0.33 0.03 0.18 1.   0.51 0.24 1.   0.72 0.1  0.51 0.56 0.84 0.63 0.55\n",
      " 0.02 0.27 0.17 0.07 0.62 0.59 0.39 0.56 0.34 0.39 0.29 0.37 0.11 0.29\n",
      " 0.62 0.1  0.46 0.07 0.38 0.07 0.21 0.42 0.02 0.25 0.23 0.12 0.55 0.72\n",
      " 0.32 0.22 0.19 0.34 1.   0.01 0.43 0.44 0.28 0.16 0.05 0.36 0.33 0.66\n",
      " 1.   0.37 0.38 0.45 0.06 0.12 0.33 0.36 0.27 1.   0.35 0.53 0.1  0.41\n",
      " 0.26 0.22 0.01 0.2  0.95 0.29 0.9  0.25 1.   0.4  0.17 0.82 1.   0.17\n",
      " 1.   0.43 0.38 0.28 0.04 0.17 0.03 1.   0.19 0.25 1.   0.15 0.26 0.19\n",
      " 0.28 0.05 0.24 0.4  0.26 0.05 0.09 0.39 0.78 0.04 0.23 0.43 0.21 0.09\n",
      " 0.36 0.26 0.08 0.21 0.23 0.37 0.22 0.35 0.08 0.13 0.09 0.57 0.35 1.\n",
      " 0.36 0.26 0.02 0.12 0.44 1.   0.03 0.28 0.11 0.36 0.47 0.61 0.4  0.26\n",
      " 0.43 0.03 0.21 0.37 0.41 0.16 0.22 0.13 0.01 0.01 1.   0.29 0.1  0.35\n",
      " 1.   0.11 0.16 1.   1.   1.   0.04 0.19 1.   0.57 0.35 0.19 0.   0.47\n",
      " 0.05 0.22 1.   1.   1.   0.35 0.33 0.29 1.   0.13 0.21 0.09 0.28 0.22\n",
      " 0.16 0.55 0.32 0.02 1.   0.25 0.2  0.19 0.46 0.19 0.26 0.18 0.49 0.42\n",
      " 0.14 0.18 0.44 0.17 0.4  0.41 0.15 1.   0.45 0.31 1.   0.22 0.24 1.\n",
      " 0.06 0.06 0.26 0.37 0.01 0.26 0.1  0.08 0.32 1.   0.08 0.37 0.17 1.\n",
      " 0.36 1.   0.28 0.83 0.2  0.22 0.12 0.32 0.39 0.36 0.09 0.02 0.   0.45\n",
      " 0.32 0.26 0.58 0.04 0.05 0.3  0.08 0.3  0.09 0.26 0.25 0.15 0.39 0.39\n",
      " 0.44 0.07 0.26 0.44 0.13 0.32 0.1  0.57 0.24 0.07 0.31 0.36 0.28 0.4\n",
      " 1.   0.14 0.35 0.46 0.43 0.19 0.14 0.66 0.52 0.39 0.95 0.26 0.23 0.18\n",
      " 0.34 0.1  0.46 0.39 1.   0.04 0.11 0.33 0.04 0.88 0.15 0.62 0.77 0.3\n",
      " 0.23 0.15 0.53 0.15 0.92 0.16 0.4  1.   0.71 0.04 0.18 0.33 0.28 0.45\n",
      " 0.22 0.15 0.59 0.2  0.28 0.52 0.48 0.77 0.07 0.05 0.03 0.02 0.45 0.27\n",
      " 0.51 0.29 0.28 1.   0.24 1.   1.   0.58 0.34 0.28 0.31 0.23 0.03 0.11\n",
      " 0.37 0.24]\n"
     ]
    }
   ],
   "source": [
    "grouped_by_items = mapped_df.groupby(\"itemId\")\n",
    "iter = 0\n",
    "for item, grouped in grouped_by_items:\n",
    "    print(item, grouped[\"userId\"].values, grouped[\"rating\"].values)\n",
    "    iter = iter + 1\n",
    "    if iter > 5:\n",
    "        break"
   ]
  },
  {
   "cell_type": "code",
   "execution_count": 20,
   "metadata": {
    "collapsed": false,
    "deletable": true,
    "editable": true,
    "jupyter": {
     "outputs_hidden": false
    }
   },
   "outputs": [
    {
     "name": "stdout",
     "output_type": "stream",
     "text": [
      "WARNING:tensorflow:From /tmp/ipykernel_2317/1646577164.py:3: The name tf.python_io.TFRecordWriter is deprecated. Please use tf.io.TFRecordWriter instead.\n",
      "\n"
     ]
    }
   ],
   "source": [
    "import tensorflow as tf\n",
    "grouped_by_items = mapped_df.groupby(\"itemId\")\n",
    "with tf.python_io.TFRecordWriter(\"data/users_for_item\") as ofp:\n",
    "    for item, grouped in grouped_by_items:\n",
    "        example = tf.train.Example(features = tf.train.Features(feature = {\n",
    "            \"key\": tf.train.Feature(int64_list = tf.train.Int64List(value = [item])),\n",
    "            \"indices\": tf.train.Feature(int64_list = tf.train.Int64List(value = grouped[\"userId\"].values)),\n",
    "            \"values\": tf.train.Feature(float_list = tf.train.FloatList(value = grouped[\"rating\"].values))\n",
    "        }))\n",
    "        ofp.write(example.SerializeToString())"
   ]
  },
  {
   "cell_type": "code",
   "execution_count": 21,
   "metadata": {
    "collapsed": false,
    "deletable": true,
    "editable": true,
    "jupyter": {
     "outputs_hidden": false
    }
   },
   "outputs": [],
   "source": [
    "grouped_by_users = mapped_df.groupby(\"userId\")\n",
    "with tf.python_io.TFRecordWriter(\"data/items_for_user\") as ofp:\n",
    "    for user, grouped in grouped_by_users:\n",
    "        example = tf.train.Example(features = tf.train.Features(feature = {\n",
    "            \"key\": tf.train.Feature(int64_list = tf.train.Int64List(value = [user])),\n",
    "            \"indices\": tf.train.Feature(int64_list = tf.train.Int64List(value = grouped[\"itemId\"].values)),\n",
    "            \"values\": tf.train.Feature(float_list = tf.train.FloatList(value = grouped[\"rating\"].values))\n",
    "        }))\n",
    "        ofp.write(example.SerializeToString())"
   ]
  },
  {
   "cell_type": "code",
   "execution_count": 22,
   "metadata": {
    "collapsed": false,
    "deletable": true,
    "editable": true,
    "jupyter": {
     "outputs_hidden": false
    }
   },
   "outputs": [
    {
     "name": "stdout",
     "output_type": "stream",
     "text": [
      "total 36268\n",
      "-rw-r--r-- 1 jupyter jupyter 14066456 Jul 29 03:19 collab_raw.csv\n",
      "-rw-r--r-- 1 jupyter jupyter  3468640 Jul 29 03:19 users.csv\n",
      "-rw-r--r-- 1 jupyter jupyter    80901 Jul 29 03:19 items.csv\n",
      "-rw-r--r-- 1 jupyter jupyter  7627217 Jul 29 03:19 collab_mapped.csv\n",
      "-rw-r--r-- 1 jupyter jupyter  2281845 Jul 29 03:19 users_for_item\n",
      "-rw-r--r-- 1 jupyter jupyter  9597881 Jul 29 03:19 items_for_user\n"
     ]
    }
   ],
   "source": [
    "!ls -lrt data"
   ]
  },
  {
   "cell_type": "markdown",
   "metadata": {
    "deletable": true,
    "editable": true
   },
   "source": [
    "To summarize, you created the following data files from collab_raw.csv:\n",
    "<ol>\n",
    "<li> ```collab_mapped.csv``` is essentially the same data as in ```collab_raw.csv``` except that ```visitorId``` and ```contentId``` which are business-specific have been mapped to ```userId``` and ```itemId``` which are enumerated in 0,1,2,....  The mappings themselves are stored in ```items.csv``` and ```users.csv``` so that they can be used during inference.\n",
    "<li> ```users_for_item``` contains all the users/ratings for each item in TFExample format\n",
    "<li> ```items_for_user``` contains all the items/ratings for each user in TFExample format\n",
    "</ol>"
   ]
  },
  {
   "cell_type": "markdown",
   "metadata": {
    "deletable": true,
    "editable": true
   },
   "source": [
    "## Train with WALS\n",
    "\n",
    "Once you have the dataset, do matrix factorization with WALS using the [WALSMatrixFactorization](https://www.tensorflow.org/versions/r1.15/api_docs/python/tf/contrib/factorization/WALSMatrixFactorization) in the contrib directory.\n",
    "This is an estimator model, so it should be relatively familiar.\n",
    "<p>\n",
    "As usual, you write an input_fn to provide the data to the model, and then create the Estimator to do train_and_evaluate.\n",
    "Because it is in contrib and hasn't moved over to tf.estimator yet, you use tf.contrib.learn.Experiment to handle the training loop.<p>\n",
    "Make sure to replace <strong># TODO</strong> in below code."
   ]
  },
  {
   "cell_type": "code",
   "execution_count": 23,
   "metadata": {
    "collapsed": false,
    "deletable": true,
    "editable": true,
    "jupyter": {
     "outputs_hidden": false
    }
   },
   "outputs": [],
   "source": [
    "import os\n",
    "import tensorflow as tf\n",
    "from tensorflow.python.lib.io import file_io\n",
    "from tensorflow.contrib.factorization import WALSMatrixFactorization\n",
    "  \n",
    "def read_dataset(mode, args):\n",
    "# TODO 2: Decode the example\n",
    "    def decode_example(protos, vocab_size):\n",
    "        features = {\n",
    "            \"key\": tf.FixedLenFeature(shape = [1], dtype = tf.int64),\n",
    "            \"indices\": tf.VarLenFeature(dtype = tf.int64),\n",
    "            \"values\": tf.VarLenFeature(dtype = tf.float32)}\n",
    "        parsed_features = tf.parse_single_example(serialized = protos, features = features)\n",
    "        values = tf.sparse_merge(sp_ids = parsed_features[\"indices\"], sp_values = parsed_features[\"values\"], vocab_size = vocab_size)\n",
    "        # Save key to remap after batching\n",
    "        # This is a temporary workaround to assign correct row numbers in each batch.\n",
    "        # You can ignore details of this part and remap_keys().\n",
    "        key = parsed_features[\"key\"]\n",
    "        decoded_sparse_tensor = tf.SparseTensor(indices = tf.concat(values = [values.indices, [key]], axis = 0), \n",
    "                                                values = tf.concat(values = [values.values, [0.0]], axis = 0), \n",
    "                                                dense_shape = values.dense_shape)\n",
    "        return decoded_sparse_tensor\n",
    "  \n",
    "  \n",
    "    def remap_keys(sparse_tensor):\n",
    "        # Current indices of your SparseTensor that you need to fix\n",
    "        bad_indices = sparse_tensor.indices # shape = (current_batch_size * (number_of_items/users[i] + 1), 2)\n",
    "        # Current values of your SparseTensor that you need to fix\n",
    "        bad_values = sparse_tensor.values # shape = (current_batch_size * (number_of_items/users[i] + 1),)\n",
    "\n",
    "        # Since batch is ordered, the last value for a batch index is the user\n",
    "        # Find where the batch index chages to extract the user rows\n",
    "        # 1 where user, else 0\n",
    "        user_mask = tf.concat(values = [bad_indices[1:,0] - bad_indices[:-1,0], tf.constant(value = [1], dtype = tf.int64)], axis = 0) # shape = (current_batch_size * (number_of_items/users[i] + 1), 2)\n",
    "\n",
    "        # Mask out the user rows from the values\n",
    "        good_values = tf.boolean_mask(tensor = bad_values, mask = tf.equal(x = user_mask, y = 0)) # shape = (current_batch_size * number_of_items/users[i],)\n",
    "        item_indices = tf.boolean_mask(tensor = bad_indices, mask = tf.equal(x = user_mask, y = 0)) # shape = (current_batch_size * number_of_items/users[i],)\n",
    "        user_indices = tf.boolean_mask(tensor = bad_indices, mask = tf.equal(x = user_mask, y = 1))[:, 1] # shape = (current_batch_size,)\n",
    "\n",
    "        good_user_indices = tf.gather(params = user_indices, indices = item_indices[:,0]) # shape = (current_batch_size * number_of_items/users[i],)\n",
    "\n",
    "        # User and item indices are rank 1, need to make rank 1 to concat\n",
    "        good_user_indices_expanded = tf.expand_dims(input = good_user_indices, axis = -1) # shape = (current_batch_size * number_of_items/users[i], 1)\n",
    "        good_item_indices_expanded = tf.expand_dims(input = item_indices[:, 1], axis = -1) # shape = (current_batch_size * number_of_items/users[i], 1)\n",
    "        good_indices = tf.concat(values = [good_user_indices_expanded, good_item_indices_expanded], axis = 1) # shape = (current_batch_size * number_of_items/users[i], 2)\n",
    "\n",
    "        remapped_sparse_tensor = tf.SparseTensor(indices = good_indices, values = good_values, dense_shape = sparse_tensor.dense_shape)\n",
    "        return remapped_sparse_tensor\n",
    "\n",
    "    \n",
    "    def parse_tfrecords(filename, vocab_size):\n",
    "        if mode == tf.estimator.ModeKeys.TRAIN:\n",
    "            num_epochs = None # indefinitely\n",
    "        else:\n",
    "            num_epochs = 1 # end-of-input after this\n",
    "\n",
    "        files = tf.gfile.Glob(filename = os.path.join(args[\"input_path\"], filename))\n",
    "\n",
    "        # Create dataset from file list\n",
    "        dataset = tf.data.TFRecordDataset(files)\n",
    "        dataset = dataset.map(map_func = lambda x: decode_example(x, vocab_size))\n",
    "        dataset = dataset.repeat(count = num_epochs)\n",
    "        dataset = dataset.batch(batch_size = args[\"batch_size\"])\n",
    "        dataset = dataset.map(map_func = lambda x: remap_keys(x))\n",
    "        return dataset.make_one_shot_iterator().get_next()\n",
    "  \n",
    "    def _input_fn():\n",
    "        features = {\n",
    "            WALSMatrixFactorization.INPUT_ROWS: parse_tfrecords(\"items_for_user\", args[\"nitems\"]),\n",
    "            WALSMatrixFactorization.INPUT_COLS: parse_tfrecords(\"users_for_item\", args[\"nusers\"]),\n",
    "            WALSMatrixFactorization.PROJECT_ROW: tf.constant(True)\n",
    "        }\n",
    "        return features, None\n",
    "\n",
    "    return _input_fn"
   ]
  },
  {
   "cell_type": "markdown",
   "metadata": {
    "deletable": true,
    "editable": true
   },
   "source": [
    "This code is helpful in developing the input function. You don't need it in production."
   ]
  },
  {
   "cell_type": "code",
   "execution_count": 25,
   "metadata": {
    "collapsed": false,
    "deletable": true,
    "editable": true,
    "jupyter": {
     "outputs_hidden": false
    }
   },
   "outputs": [
    {
     "name": "stdout",
     "output_type": "stream",
     "text": [
      "SparseTensorValue(indices=array([[   0,    0],\n",
      "       [   0, 5532],\n",
      "       [   0, 5553],\n",
      "       [   0, 5555],\n",
      "       [   0, 5558],\n",
      "       [   1,    1],\n",
      "       [   1,    2],\n",
      "       [   2,    2],\n",
      "       [   3,    3],\n",
      "       [   3,  200]]), values=array([0.06, 0.07, 0.38, 0.05, 0.11, 0.66, 0.38, 0.22, 0.68, 0.01],\n",
      "      dtype=float32), dense_shape=array([   4, 5581]))\n",
      "SparseTensorValue(indices=array([[   4,    4],\n",
      "       [   4, 5542],\n",
      "       [   4, 5543],\n",
      "       [   5,    5],\n",
      "       [   5,    6],\n",
      "       [   5, 5534],\n",
      "       [   6,    7],\n",
      "       [   6, 5529],\n",
      "       [   6, 5537],\n",
      "       [   6, 5541],\n",
      "       [   6, 5549],\n",
      "       [   7,    8],\n",
      "       [   7, 5564]]), values=array([0.02, 0.94, 0.72, 0.07, 0.28, 0.43, 0.57, 0.23, 0.13, 0.26, 0.57,\n",
      "       0.38, 0.33], dtype=float32), dense_shape=array([   4, 5581]))\n"
     ]
    }
   ],
   "source": [
    "def try_out():\n",
    "    with tf.Session() as sess:\n",
    "        fn = read_dataset(\n",
    "            mode = tf.estimator.ModeKeys.EVAL, \n",
    "            args = {\"input_path\": \"data\", \"batch_size\": 4, \"nitems\": NITEMS, \"nusers\": NUSERS})\n",
    "        feats, _ = fn()\n",
    "        \n",
    "        print(feats[\"input_rows\"].eval())\n",
    "        print(feats[\"input_rows\"].eval())\n",
    "\n",
    "try_out()"
   ]
  },
  {
   "cell_type": "code",
   "execution_count": 26,
   "metadata": {
    "collapsed": false,
    "deletable": true,
    "editable": true,
    "jupyter": {
     "outputs_hidden": false
    }
   },
   "outputs": [],
   "source": [
    "def find_top_k(user, item_factors, k):\n",
    "    all_items = tf.matmul(a = tf.expand_dims(input = user, axis = 0), b = tf.transpose(a = item_factors))\n",
    "    topk = tf.nn.top_k(input = all_items, k = k)\n",
    "    return tf.cast(x = topk.indices, dtype = tf.int64)\n",
    "    \n",
    "def batch_predict(args):\n",
    "    import numpy as np\n",
    "    with tf.Session() as sess:\n",
    "        estimator = tf.contrib.factorization.WALSMatrixFactorization(\n",
    "            num_rows = args[\"nusers\"], \n",
    "            num_cols = args[\"nitems\"],\n",
    "            embedding_dimension = args[\"n_embeds\"],\n",
    "            model_dir = args[\"output_dir\"])\n",
    "        \n",
    "        # This is how you would get the row factors for out-of-vocab user data\n",
    "        # row_factors = list(estimator.get_projections(input_fn=read_dataset(tf.estimator.ModeKeys.EVAL, args)))\n",
    "        # user_factors = tf.convert_to_tensor(np.array(row_factors))\n",
    "\n",
    "        # But for in-vocab data, the row factors are already in the checkpoint\n",
    "        user_factors = tf.convert_to_tensor(value = estimator.get_row_factors()[0]) # (nusers, nembeds)\n",
    "        # In either case, you have to assume catalog doesn\"t change, so col_factors are read in\n",
    "        item_factors = tf.convert_to_tensor(value = estimator.get_col_factors()[0])# (nitems, nembeds)\n",
    "\n",
    "        # For each user, find the top K items\n",
    "        topk = tf.squeeze(input = tf.map_fn(fn = lambda user: find_top_k(user, item_factors, args[\"topk\"]), elems = user_factors, dtype = tf.int64))\n",
    "        with file_io.FileIO(os.path.join(args[\"output_dir\"], \"batch_pred.txt\"), mode = 'w') as f:\n",
    "            for best_items_for_user in topk.eval():\n",
    "                f.write(\",\".join(str(x) for x in best_items_for_user) + '\\n')\n",
    "\n",
    "def train_and_evaluate(args):\n",
    "    train_steps = int(0.5 + (1.0 * args[\"num_epochs\"] * args[\"nusers\"]) / args[\"batch_size\"])\n",
    "    steps_in_epoch = int(0.5 + args[\"nusers\"] / args[\"batch_size\"])\n",
    "    print(\"Will train for {} steps, evaluating once every {} steps\".format(train_steps, steps_in_epoch))\n",
    "    def experiment_fn(output_dir):\n",
    "        return tf.contrib.learn.Experiment(\n",
    "            tf.contrib.factorization.WALSMatrixFactorization(\n",
    "                num_rows = args[\"nusers\"], \n",
    "                num_cols = args[\"nitems\"],\n",
    "                embedding_dimension = args[\"n_embeds\"],\n",
    "                model_dir = args[\"output_dir\"]),\n",
    "            train_input_fn = read_dataset(tf.estimator.ModeKeys.TRAIN, args),\n",
    "            eval_input_fn = read_dataset(tf.estimator.ModeKeys.EVAL, args),\n",
    "            train_steps = train_steps,\n",
    "            eval_steps = 1,\n",
    "            min_eval_frequency = steps_in_epoch\n",
    "        )\n",
    "\n",
    "    from tensorflow.contrib.learn.python.learn import learn_runner\n",
    "    learn_runner.run(experiment_fn = experiment_fn, output_dir = args[\"output_dir\"])\n",
    "    \n",
    "    batch_predict(args)"
   ]
  },
  {
   "cell_type": "code",
   "execution_count": 27,
   "metadata": {
    "collapsed": false,
    "deletable": true,
    "editable": true,
    "jupyter": {
     "outputs_hidden": false
    }
   },
   "outputs": [
    {
     "name": "stdout",
     "output_type": "stream",
     "text": [
      "Will train for 12 steps, evaluating once every 232 steps\n",
      "WARNING:tensorflow:From /tmp/ipykernel_2317/3918473593.py:49: run (from tensorflow.contrib.learn.python.learn.learn_runner) is deprecated and will be removed in a future version.\n",
      "Instructions for updating:\n",
      "Use tf.estimator.train_and_evaluate.\n",
      "WARNING:tensorflow:\n",
      "The TensorFlow contrib module will not be included in TensorFlow 2.0.\n",
      "For more information, please see:\n",
      "  * https://github.com/tensorflow/community/blob/master/rfcs/20180907-contrib-sunset.md\n",
      "  * https://github.com/tensorflow/addons\n",
      "  * https://github.com/tensorflow/io (for I/O related ops)\n",
      "If you depend on functionality not listed there, please file an issue.\n",
      "\n",
      "WARNING:tensorflow:From /opt/conda/lib/python3.7/site-packages/tensorflow_core/contrib/learn/python/learn/estimators/estimator.py:1180: BaseEstimator.__init__ (from tensorflow.contrib.learn.python.learn.estimators.estimator) is deprecated and will be removed in a future version.\n",
      "Instructions for updating:\n",
      "Please replace uses of any Estimator from tf.contrib.learn with an Estimator from tf.estimator.*\n",
      "WARNING:tensorflow:From /opt/conda/lib/python3.7/site-packages/tensorflow_core/contrib/learn/python/learn/estimators/estimator.py:427: RunConfig.__init__ (from tensorflow.contrib.learn.python.learn.estimators.run_config) is deprecated and will be removed in a future version.\n",
      "Instructions for updating:\n",
      "When switching to tf.estimator.Estimator, use tf.estimator.RunConfig instead.\n",
      "INFO:tensorflow:Using default config.\n",
      "INFO:tensorflow:Using config: {'_task_type': None, '_task_id': 0, '_cluster_spec': <tensorflow.python.training.server_lib.ClusterSpec object at 0x7f94b855a990>, '_master': '', '_num_ps_replicas': 0, '_num_worker_replicas': 0, '_environment': 'local', '_is_chief': True, '_evaluation_master': '', '_train_distribute': None, '_eval_distribute': None, '_experimental_max_worker_delay_secs': None, '_device_fn': None, '_tf_config': gpu_options {\n",
      "  per_process_gpu_memory_fraction: 1.0\n",
      "}\n",
      ", '_tf_random_seed': None, '_save_summary_steps': 100, '_save_checkpoints_secs': 600, '_log_step_count_steps': 100, '_protocol': None, '_session_config': None, '_save_checkpoints_steps': None, '_keep_checkpoint_max': 5, '_keep_checkpoint_every_n_hours': 10000, '_model_dir': 'wals_trained', '_session_creation_timeout_secs': 7200}\n",
      "WARNING:tensorflow:From /tmp/ipykernel_2317/3918473593.py:45: Experiment.__init__ (from tensorflow.contrib.learn.python.learn.experiment) is deprecated and will be removed in a future version.\n",
      "Instructions for updating:\n",
      "Please switch to tf.estimator.train_and_evaluate. You will also have to convert to a tf.estimator.Estimator.\n",
      "WARNING:tensorflow:From /opt/conda/lib/python3.7/site-packages/tensorflow_core/contrib/learn/python/learn/monitors.py:279: BaseMonitor.__init__ (from tensorflow.contrib.learn.python.learn.monitors) is deprecated and will be removed after 2016-12-05.\n",
      "Instructions for updating:\n",
      "Monitors are deprecated. Please use tf.train.SessionRunHook.\n",
      "WARNING:tensorflow:From /opt/conda/lib/python3.7/site-packages/tensorflow_core/python/training/training_util.py:236: Variable.initialized_value (from tensorflow.python.ops.variables) is deprecated and will be removed in a future version.\n",
      "Instructions for updating:\n",
      "Use Variable.read_value. Variables in 2.X are initialized automatically both in eager and graph (inside tf.defun) contexts.\n",
      "WARNING:tensorflow:From /opt/conda/lib/python3.7/site-packages/tensorflow_core/contrib/factorization/python/ops/wals.py:315: ModelFnOps.__new__ (from tensorflow.contrib.learn.python.learn.estimators.model_fn) is deprecated and will be removed in a future version.\n",
      "Instructions for updating:\n",
      "When switching to tf.estimator.Estimator, use tf.estimator.EstimatorSpec. You can use the `estimator_spec` method to create an equivalent one.\n",
      "INFO:tensorflow:Create CheckpointSaverHook.\n",
      "INFO:tensorflow:Graph was finalized.\n",
      "INFO:tensorflow:Running local_init_op.\n",
      "INFO:tensorflow:Done running local_init_op.\n",
      "INFO:tensorflow:Saving checkpoints for 0 into wals_trained/model.ckpt.\n",
      "INFO:tensorflow:SweepHook running init op.\n",
      "INFO:tensorflow:SweepHook running prep ops for the row sweep.\n",
      "INFO:tensorflow:Next fit step starting.\n"
     ]
    },
    {
     "name": "stderr",
     "output_type": "stream",
     "text": [
      "OMP: Info #212: KMP_AFFINITY: decoding x2APIC ids.\n",
      "OMP: Info #210: KMP_AFFINITY: Affinity capable, using global cpuid leaf 11 info\n",
      "OMP: Info #154: KMP_AFFINITY: Initial OS proc set respected: 0-3\n",
      "OMP: Info #156: KMP_AFFINITY: 4 available OS procs\n",
      "OMP: Info #157: KMP_AFFINITY: Uniform topology\n",
      "OMP: Info #179: KMP_AFFINITY: 1 packages x 2 cores/pkg x 2 threads/core (2 total cores)\n",
      "OMP: Info #214: KMP_AFFINITY: OS proc to physical thread map:\n",
      "OMP: Info #171: KMP_AFFINITY: OS proc 0 maps to package 0 core 0 thread 0 \n",
      "OMP: Info #171: KMP_AFFINITY: OS proc 2 maps to package 0 core 0 thread 1 \n",
      "OMP: Info #171: KMP_AFFINITY: OS proc 1 maps to package 0 core 1 thread 0 \n",
      "OMP: Info #171: KMP_AFFINITY: OS proc 3 maps to package 0 core 1 thread 1 \n",
      "OMP: Info #250: KMP_AFFINITY: pid 2317 tid 13924 thread 0 bound to OS proc set 0\n",
      "OMP: Info #250: KMP_AFFINITY: pid 2317 tid 13924 thread 1 bound to OS proc set 1\n",
      "OMP: Info #250: KMP_AFFINITY: pid 2317 tid 13924 thread 2 bound to OS proc set 2\n",
      "OMP: Info #250: KMP_AFFINITY: pid 2317 tid 30922 thread 3 bound to OS proc set 3\n",
      "OMP: Info #250: KMP_AFFINITY: pid 2317 tid 31091 thread 4 bound to OS proc set 0\n"
     ]
    },
    {
     "name": "stdout",
     "output_type": "stream",
     "text": [
      "INFO:tensorflow:loss = 178729.88, step = 1\n",
      "INFO:tensorflow:Next fit step starting.\n",
      "INFO:tensorflow:Next fit step starting.\n",
      "INFO:tensorflow:Next fit step starting.\n",
      "INFO:tensorflow:Next fit step starting.\n",
      "INFO:tensorflow:Next fit step starting.\n",
      "INFO:tensorflow:Next fit step starting.\n",
      "INFO:tensorflow:Next fit step starting.\n",
      "INFO:tensorflow:Next fit step starting.\n",
      "INFO:tensorflow:Next fit step starting.\n",
      "INFO:tensorflow:Next fit step starting.\n",
      "INFO:tensorflow:Next fit step starting.\n",
      "INFO:tensorflow:Saving checkpoints for 12 into wals_trained/model.ckpt.\n",
      "INFO:tensorflow:Loss for final step: 164269.25.\n",
      "INFO:tensorflow:Starting evaluation at 2023-07-29T03:20:36Z\n",
      "INFO:tensorflow:Graph was finalized.\n",
      "INFO:tensorflow:Restoring parameters from wals_trained/model.ckpt-12\n",
      "INFO:tensorflow:Running local_init_op.\n",
      "INFO:tensorflow:Done running local_init_op.\n"
     ]
    },
    {
     "name": "stderr",
     "output_type": "stream",
     "text": [
      "OMP: Info #250: KMP_AFFINITY: pid 2317 tid 32095 thread 4 bound to OS proc set 0\n"
     ]
    },
    {
     "name": "stdout",
     "output_type": "stream",
     "text": [
      "INFO:tensorflow:Evaluation [1/1]\n",
      "INFO:tensorflow:Finished evaluation at 2023-07-29-03:20:36\n",
      "INFO:tensorflow:Saving dict for global step 12: global_step = 12, loss = 178729.88\n",
      "INFO:tensorflow:Using default config.\n",
      "INFO:tensorflow:Using config: {'_task_type': None, '_task_id': 0, '_cluster_spec': <tensorflow.python.training.server_lib.ClusterSpec object at 0x7f94bc49d690>, '_master': '', '_num_ps_replicas': 0, '_num_worker_replicas': 0, '_environment': 'local', '_is_chief': True, '_evaluation_master': '', '_train_distribute': None, '_eval_distribute': None, '_experimental_max_worker_delay_secs': None, '_device_fn': None, '_tf_config': gpu_options {\n",
      "  per_process_gpu_memory_fraction: 1.0\n",
      "}\n",
      ", '_tf_random_seed': None, '_save_summary_steps': 100, '_save_checkpoints_secs': 600, '_log_step_count_steps': 100, '_protocol': None, '_session_config': None, '_save_checkpoints_steps': None, '_keep_checkpoint_max': 5, '_keep_checkpoint_every_n_hours': 10000, '_model_dir': 'wals_trained', '_session_creation_timeout_secs': 7200}\n"
     ]
    },
    {
     "name": "stderr",
     "output_type": "stream",
     "text": [
      "OMP: Info #250: KMP_AFFINITY: pid 2317 tid 32500 thread 4 bound to OS proc set 0\n"
     ]
    }
   ],
   "source": [
    "import shutil\n",
    "shutil.rmtree(path = \"wals_trained\", ignore_errors=True)\n",
    "train_and_evaluate({\n",
    "    \"output_dir\": \"wals_trained\",\n",
    "    \"input_path\": \"data/\",\n",
    "    \"num_epochs\": 0.05,\n",
    "    \"nitems\": NITEMS,\n",
    "    \"nusers\": NUSERS,\n",
    "\n",
    "    \"batch_size\": 512,\n",
    "    \"n_embeds\": 10,\n",
    "    \"topk\": 3\n",
    "  })"
   ]
  },
  {
   "cell_type": "code",
   "execution_count": 28,
   "metadata": {
    "collapsed": false,
    "deletable": true,
    "editable": true,
    "jupyter": {
     "outputs_hidden": false
    }
   },
   "outputs": [
    {
     "name": "stdout",
     "output_type": "stream",
     "text": [
      "batch_pred.txt\n",
      "checkpoint\n",
      "eval\n",
      "events.out.tfevents.1690600832.tensorflow-notebook\n",
      "graph.pbtxt\n",
      "model.ckpt-0.data-00000-of-00001\n",
      "model.ckpt-0.index\n",
      "model.ckpt-0.meta\n",
      "model.ckpt-12.data-00000-of-00001\n",
      "model.ckpt-12.index\n",
      "model.ckpt-12.meta\n"
     ]
    }
   ],
   "source": [
    "!ls wals_trained"
   ]
  },
  {
   "cell_type": "code",
   "execution_count": 29,
   "metadata": {
    "collapsed": false,
    "deletable": true,
    "editable": true,
    "jupyter": {
     "outputs_hidden": false
    }
   },
   "outputs": [
    {
     "name": "stdout",
     "output_type": "stream",
     "text": [
      "3050,3892,3877\n",
      "4493,2581,1737\n",
      "875,4886,3634\n",
      "3212,2777,3\n",
      "5542,1471,2116\n",
      "4339,2079,3178\n",
      "5532,1716,346\n",
      "4484,1878,5264\n",
      "3402,1607,3969\n",
      "4776,5542,1281\n"
     ]
    }
   ],
   "source": [
    "!head wals_trained/batch_pred.txt"
   ]
  },
  {
   "cell_type": "markdown",
   "metadata": {
    "deletable": true,
    "editable": true
   },
   "source": [
    "## Run as a Python module\n",
    "\n",
    "Let's run it as Python module for just a few steps."
   ]
  },
  {
   "cell_type": "code",
   "execution_count": 34,
   "metadata": {},
   "outputs": [],
   "source": [
    "os.environ[\"NITEMS\"] = str(NITEMS)\n",
    "os.environ[\"NUSERS\"] = str(NUSERS)"
   ]
  },
  {
   "cell_type": "code",
   "execution_count": 35,
   "metadata": {
    "collapsed": false,
    "deletable": true,
    "editable": true,
    "jupyter": {
     "outputs_hidden": false
    }
   },
   "outputs": [
    {
     "name": "stdout",
     "output_type": "stream",
     "text": [
      "Will train for 2 steps, evaluating once every 232 steps\n"
     ]
    },
    {
     "name": "stderr",
     "output_type": "stream",
     "text": [
      "WARNING:tensorflow:From /home/jupyter/training-data-analyst/courses/machine_learning/deepdive2/recommendation_systems/labs/walsmodel/model.py:27: The name tf.logging.set_verbosity is deprecated. Please use tf.compat.v1.logging.set_verbosity instead.\n",
      "\n",
      "WARNING:tensorflow:From /home/jupyter/training-data-analyst/courses/machine_learning/deepdive2/recommendation_systems/labs/walsmodel/model.py:27: The name tf.logging.INFO is deprecated. Please use tf.compat.v1.logging.INFO instead.\n",
      "\n",
      "WARNING:tensorflow:From /home/jupyter/training-data-analyst/courses/machine_learning/deepdive2/recommendation_systems/labs/walsmodel/model.py:198: run (from tensorflow.contrib.learn.python.learn.learn_runner) is deprecated and will be removed in a future version.\n",
      "Instructions for updating:\n",
      "Use tf.estimator.train_and_evaluate.\n",
      "WARNING:tensorflow:\n",
      "The TensorFlow contrib module will not be included in TensorFlow 2.0.\n",
      "For more information, please see:\n",
      "  * https://github.com/tensorflow/community/blob/master/rfcs/20180907-contrib-sunset.md\n",
      "  * https://github.com/tensorflow/addons\n",
      "  * https://github.com/tensorflow/io (for I/O related ops)\n",
      "If you depend on functionality not listed there, please file an issue.\n",
      "\n",
      "WARNING:tensorflow:From /opt/conda/lib/python3.7/site-packages/tensorflow_core/contrib/learn/python/learn/estimators/estimator.py:1180: BaseEstimator.__init__ (from tensorflow.contrib.learn.python.learn.estimators.estimator) is deprecated and will be removed in a future version.\n",
      "Instructions for updating:\n",
      "Please replace uses of any Estimator from tf.contrib.learn with an Estimator from tf.estimator.*\n",
      "WARNING:tensorflow:From /opt/conda/lib/python3.7/site-packages/tensorflow_core/contrib/learn/python/learn/estimators/estimator.py:427: RunConfig.__init__ (from tensorflow.contrib.learn.python.learn.estimators.run_config) is deprecated and will be removed in a future version.\n",
      "Instructions for updating:\n",
      "When switching to tf.estimator.Estimator, use tf.estimator.RunConfig instead.\n",
      "INFO:tensorflow:Using default config.\n",
      "INFO:tensorflow:Using config: {'_task_type': None, '_task_id': 0, '_cluster_spec': <tensorflow.python.training.server_lib.ClusterSpec object at 0x7f5aea7cbcd0>, '_master': '', '_num_ps_replicas': 0, '_num_worker_replicas': 0, '_environment': 'cloud', '_is_chief': True, '_evaluation_master': '', '_train_distribute': None, '_eval_distribute': None, '_experimental_max_worker_delay_secs': None, '_device_fn': None, '_tf_config': gpu_options {\n",
      "  per_process_gpu_memory_fraction: 1.0\n",
      "}\n",
      ", '_tf_random_seed': None, '_save_summary_steps': 100, '_save_checkpoints_secs': 600, '_log_step_count_steps': 100, '_protocol': None, '_session_config': None, '_save_checkpoints_steps': None, '_keep_checkpoint_max': 5, '_keep_checkpoint_every_n_hours': 10000, '_model_dir': '/home/jupyter/training-data-analyst/courses/machine_learning/deepdive2/recommendation_systems/labs/wals_trained/', '_session_creation_timeout_secs': 7200}\n",
      "WARNING:tensorflow:From /home/jupyter/training-data-analyst/courses/machine_learning/deepdive2/recommendation_systems/labs/walsmodel/model.py:194: make_export_strategy (from tensorflow.contrib.learn.python.learn.utils.saved_model_export_utils) is deprecated and will be removed in a future version.\n",
      "Instructions for updating:\n",
      "Switch to tf.estimator.Exporter and associated utilities.\n",
      "WARNING:tensorflow:From /opt/conda/lib/python3.7/site-packages/tensorflow_core/contrib/learn/python/learn/utils/saved_model_export_utils.py:484: ExportStrategy.__new__ (from tensorflow.contrib.learn.python.learn.export_strategy) is deprecated and will be removed in a future version.\n",
      "Instructions for updating:\n",
      "Please switch to tf.estimator.train_and_evaluate, and use tf.estimator.Exporter.\n",
      "WARNING:tensorflow:From /home/jupyter/training-data-analyst/courses/machine_learning/deepdive2/recommendation_systems/labs/walsmodel/model.py:194: Experiment.__init__ (from tensorflow.contrib.learn.python.learn.experiment) is deprecated and will be removed in a future version.\n",
      "Instructions for updating:\n",
      "Please switch to tf.estimator.train_and_evaluate. You will also have to convert to a tf.estimator.Estimator.\n",
      "WARNING:tensorflow:From /opt/conda/lib/python3.7/site-packages/tensorflow_core/contrib/learn/python/learn/monitors.py:279: BaseMonitor.__init__ (from tensorflow.contrib.learn.python.learn.monitors) is deprecated and will be removed after 2016-12-05.\n",
      "Instructions for updating:\n",
      "Monitors are deprecated. Please use tf.train.SessionRunHook.\n",
      "WARNING:tensorflow:From /home/jupyter/training-data-analyst/courses/machine_learning/deepdive2/recommendation_systems/labs/walsmodel/model.py:85: The name tf.gfile.Glob is deprecated. Please use tf.io.gfile.glob instead.\n",
      "\n",
      "WARNING:tensorflow:From /opt/conda/lib/python3.7/site-packages/tensorflow_core/python/autograph/converters/directives.py:119: The name tf.FixedLenFeature is deprecated. Please use tf.io.FixedLenFeature instead.\n",
      "\n",
      "WARNING:tensorflow:From /opt/conda/lib/python3.7/site-packages/tensorflow_core/python/autograph/converters/directives.py:119: The name tf.VarLenFeature is deprecated. Please use tf.io.VarLenFeature instead.\n",
      "\n",
      "WARNING:tensorflow:From /opt/conda/lib/python3.7/site-packages/tensorflow_core/python/autograph/converters/directives.py:119: The name tf.parse_single_example is deprecated. Please use tf.io.parse_single_example instead.\n",
      "\n",
      "WARNING:tensorflow:From /home/jupyter/training-data-analyst/courses/machine_learning/deepdive2/recommendation_systems/labs/walsmodel/model.py:41: sparse_merge (from tensorflow.python.ops.sparse_ops) is deprecated and will be removed in a future version.\n",
      "Instructions for updating:\n",
      "No similar op available at this time.\n",
      "WARNING:tensorflow:From /opt/conda/lib/python3.7/site-packages/tensorflow_core/python/ops/array_ops.py:1475: where (from tensorflow.python.ops.array_ops) is deprecated and will be removed in a future version.\n",
      "Instructions for updating:\n",
      "Use tf.where in 2.0, which has the same broadcast rule as np.where\n",
      "WARNING:tensorflow:From /home/jupyter/training-data-analyst/courses/machine_learning/deepdive2/recommendation_systems/labs/walsmodel/model.py:93: DatasetV1.make_one_shot_iterator (from tensorflow.python.data.ops.dataset_ops) is deprecated and will be removed in a future version.\n",
      "Instructions for updating:\n",
      "Use `for ... in dataset:` to iterate over a dataset. If using `tf.estimator`, return the `Dataset` object directly from your input function. As a last resort, you can use `tf.compat.v1.data.make_one_shot_iterator(dataset)`.\n",
      "WARNING:tensorflow:From /opt/conda/lib/python3.7/site-packages/tensorflow_core/python/training/training_util.py:236: Variable.initialized_value (from tensorflow.python.ops.variables) is deprecated and will be removed in a future version.\n",
      "Instructions for updating:\n",
      "Use Variable.read_value. Variables in 2.X are initialized automatically both in eager and graph (inside tf.defun) contexts.\n",
      "WARNING:tensorflow:From /opt/conda/lib/python3.7/site-packages/tensorflow_core/contrib/factorization/python/ops/wals.py:315: ModelFnOps.__new__ (from tensorflow.contrib.learn.python.learn.estimators.model_fn) is deprecated and will be removed in a future version.\n",
      "Instructions for updating:\n",
      "When switching to tf.estimator.Estimator, use tf.estimator.EstimatorSpec. You can use the `estimator_spec` method to create an equivalent one.\n",
      "INFO:tensorflow:Create CheckpointSaverHook.\n",
      "INFO:tensorflow:Graph was finalized.\n",
      "\n",
      "User settings:\n",
      "\n",
      "   KMP_AFFINITY=granularity=fine,verbose,compact,1,0\n",
      "   KMP_BLOCKTIME=0\n",
      "   KMP_DUPLICATE_LIB_OK=True\n",
      "   KMP_INIT_AT_FORK=FALSE\n",
      "   KMP_SETTINGS=1\n",
      "   OMP_NUM_THREADS=4\n",
      "\n",
      "Effective settings:\n",
      "\n",
      "   KMP_ABORT_DELAY=0\n",
      "   KMP_ADAPTIVE_LOCK_PROPS='1,1024'\n",
      "   KMP_ALIGN_ALLOC=64\n",
      "   KMP_ALL_THREADPRIVATE=128\n",
      "   KMP_ATOMIC_MODE=2\n",
      "   KMP_BLOCKTIME=0\n",
      "   KMP_CPUINFO_FILE: value is not defined\n",
      "   KMP_DETERMINISTIC_REDUCTION=false\n",
      "   KMP_DEVICE_THREAD_LIMIT=2147483647\n",
      "   KMP_DISP_HAND_THREAD=false\n",
      "   KMP_DISP_NUM_BUFFERS=7\n",
      "   KMP_DUPLICATE_LIB_OK=true\n",
      "   KMP_FORCE_REDUCTION: value is not defined\n",
      "   KMP_FOREIGN_THREADS_THREADPRIVATE=true\n",
      "   KMP_FORKJOIN_BARRIER='2,2'\n",
      "   KMP_FORKJOIN_BARRIER_PATTERN='hyper,hyper'\n",
      "   KMP_FORKJOIN_FRAMES=true\n",
      "   KMP_FORKJOIN_FRAMES_MODE=3\n",
      "   KMP_GTID_MODE=3\n",
      "   KMP_HANDLE_SIGNALS=false\n",
      "   KMP_HOT_TEAMS_MAX_LEVEL=1\n",
      "   KMP_HOT_TEAMS_MODE=0\n",
      "   KMP_INIT_AT_FORK=true\n",
      "   KMP_ITT_PREPARE_DELAY=0\n",
      "   KMP_LIBRARY=throughput\n",
      "   KMP_LOCK_KIND=queuing\n",
      "   KMP_MALLOC_POOL_INCR=1M\n",
      "   KMP_MWAIT_HINTS=0\n",
      "   KMP_NUM_LOCKS_IN_BLOCK=1\n",
      "   KMP_PLAIN_BARRIER='2,2'\n",
      "   KMP_PLAIN_BARRIER_PATTERN='hyper,hyper'\n",
      "   KMP_REDUCTION_BARRIER='1,1'\n",
      "   KMP_REDUCTION_BARRIER_PATTERN='hyper,hyper'\n",
      "   KMP_SCHEDULE='static,balanced;guided,iterative'\n",
      "   KMP_SETTINGS=true\n",
      "   KMP_SPIN_BACKOFF_PARAMS='4096,100'\n",
      "   KMP_STACKOFFSET=64\n",
      "   KMP_STACKPAD=0\n",
      "   KMP_STACKSIZE=8M\n",
      "   KMP_STORAGE_MAP=false\n",
      "   KMP_TASKING=2\n",
      "   KMP_TASKLOOP_MIN_TASKS=0\n",
      "   KMP_TASK_STEALING_CONSTRAINT=1\n",
      "   KMP_TEAMS_THREAD_LIMIT=4\n",
      "   KMP_TOPOLOGY_METHOD=all\n",
      "   KMP_USER_LEVEL_MWAIT=false\n",
      "   KMP_USE_YIELD=1\n",
      "   KMP_VERSION=false\n",
      "   KMP_WARNINGS=true\n",
      "   OMP_AFFINITY_FORMAT='OMP: pid %P tid %i thread %n bound to OS proc set {%A}'\n",
      "   OMP_ALLOCATOR=omp_default_mem_alloc\n",
      "   OMP_CANCELLATION=false\n",
      "   OMP_DEBUG=disabled\n",
      "   OMP_DEFAULT_DEVICE=0\n",
      "   OMP_DISPLAY_AFFINITY=false\n",
      "   OMP_DISPLAY_ENV=false\n",
      "   OMP_DYNAMIC=false\n",
      "   OMP_MAX_ACTIVE_LEVELS=2147483647\n",
      "   OMP_MAX_TASK_PRIORITY=0\n",
      "   OMP_NESTED=false\n",
      "   OMP_NUM_THREADS='4'\n",
      "   OMP_PLACES: value is not defined\n",
      "   OMP_PROC_BIND='intel'\n",
      "   OMP_SCHEDULE='static'\n",
      "   OMP_STACKSIZE=8M\n",
      "   OMP_TARGET_OFFLOAD=DEFAULT\n",
      "   OMP_THREAD_LIMIT=2147483647\n",
      "   OMP_TOOL=enabled\n",
      "   OMP_TOOL_LIBRARIES: value is not defined\n",
      "   OMP_WAIT_POLICY=PASSIVE\n",
      "   KMP_AFFINITY='verbose,warnings,respect,granularity=fine,compact,1,0'\n",
      "\n",
      "2023-07-29 03:24:13.531902: I tensorflow/core/platform/profile_utils/cpu_utils.cc:94] CPU Frequency: 2200210000 Hz\n",
      "2023-07-29 03:24:13.532253: I tensorflow/compiler/xla/service/service.cc:168] XLA service 0x55e4b1f77b10 initialized for platform Host (this does not guarantee that XLA will be used). Devices:\n",
      "2023-07-29 03:24:13.532311: I tensorflow/compiler/xla/service/service.cc:176]   StreamExecutor device (0): Host, Default Version\n",
      "2023-07-29 03:24:13.532424: I tensorflow/core/common_runtime/process_util.cc:136] Creating new thread pool with default inter op setting: 2. Tune using inter_op_parallelism_threads for best performance.\n",
      "INFO:tensorflow:Running local_init_op.\n",
      "INFO:tensorflow:Done running local_init_op.\n",
      "INFO:tensorflow:Saving checkpoints for 0 into /home/jupyter/training-data-analyst/courses/machine_learning/deepdive2/recommendation_systems/labs/wals_trained/model.ckpt.\n",
      "INFO:tensorflow:SweepHook running init op.\n",
      "INFO:tensorflow:SweepHook running prep ops for the row sweep.\n",
      "OMP: Info #212: KMP_AFFINITY: decoding x2APIC ids.\n",
      "OMP: Info #210: KMP_AFFINITY: Affinity capable, using global cpuid leaf 11 info\n",
      "OMP: Info #154: KMP_AFFINITY: Initial OS proc set respected: 0-3\n",
      "OMP: Info #156: KMP_AFFINITY: 4 available OS procs\n",
      "OMP: Info #157: KMP_AFFINITY: Uniform topology\n",
      "OMP: Info #179: KMP_AFFINITY: 1 packages x 2 cores/pkg x 2 threads/core (2 total cores)\n",
      "OMP: Info #214: KMP_AFFINITY: OS proc to physical thread map:\n",
      "OMP: Info #171: KMP_AFFINITY: OS proc 0 maps to package 0 core 0 thread 0 \n",
      "OMP: Info #171: KMP_AFFINITY: OS proc 2 maps to package 0 core 0 thread 1 \n",
      "OMP: Info #171: KMP_AFFINITY: OS proc 1 maps to package 0 core 1 thread 0 \n",
      "OMP: Info #171: KMP_AFFINITY: OS proc 3 maps to package 0 core 1 thread 1 \n",
      "OMP: Info #250: KMP_AFFINITY: pid 31458 tid 31513 thread 0 bound to OS proc set 0\n",
      "OMP: Info #250: KMP_AFFINITY: pid 31458 tid 31513 thread 1 bound to OS proc set 1\n",
      "OMP: Info #250: KMP_AFFINITY: pid 31458 tid 31516 thread 2 bound to OS proc set 2\n",
      "INFO:tensorflow:Next fit step starting.\n",
      "OMP: Info #250: KMP_AFFINITY: pid 31458 tid 31517 thread 3 bound to OS proc set 3\n",
      "INFO:tensorflow:loss = 178841.77, step = 1\n",
      "INFO:tensorflow:Next fit step starting.\n",
      "INFO:tensorflow:Saving checkpoints for 2 into /home/jupyter/training-data-analyst/courses/machine_learning/deepdive2/recommendation_systems/labs/wals_trained/model.ckpt.\n",
      "INFO:tensorflow:Loss for final step: 174283.11.\n",
      "INFO:tensorflow:Starting evaluation at 2023-07-29T03:24:15Z\n",
      "INFO:tensorflow:Graph was finalized.\n",
      "INFO:tensorflow:Restoring parameters from /home/jupyter/training-data-analyst/courses/machine_learning/deepdive2/recommendation_systems/labs/wals_trained/model.ckpt-2\n",
      "INFO:tensorflow:Running local_init_op.\n",
      "INFO:tensorflow:Done running local_init_op.\n",
      "OMP: Info #250: KMP_AFFINITY: pid 31458 tid 31557 thread 3 bound to OS proc set 3\n",
      "OMP: Info #250: KMP_AFFINITY: pid 31458 tid 31514 thread 4 bound to OS proc set 0\n",
      "INFO:tensorflow:Evaluation [1/1]\n",
      "INFO:tensorflow:Finished evaluation at 2023-07-29-03:24:16\n",
      "INFO:tensorflow:Saving dict for global step 2: global_step = 2, loss = 178841.77\n",
      "WARNING:tensorflow:From /opt/conda/lib/python3.7/site-packages/tensorflow_core/contrib/learn/python/learn/estimators/estimator.py:1374: get_timestamped_export_dir (from tensorflow.contrib.learn.python.learn.utils.saved_model_export_utils) is deprecated and will be removed in a future version.\n",
      "Instructions for updating:\n",
      "Switch to tf.estimator.Exporter and associated utilities.\n",
      "WARNING:tensorflow:From /opt/conda/lib/python3.7/site-packages/tensorflow_core/contrib/learn/python/learn/estimators/estimator.py:1379: get_temp_export_dir (from tensorflow.contrib.learn.python.learn.utils.saved_model_export_utils) is deprecated and will be removed in a future version.\n",
      "Instructions for updating:\n",
      "Switch to tf.estimator.Exporter and associated utilities.\n",
      "WARNING:tensorflow:From /home/jupyter/training-data-analyst/courses/machine_learning/deepdive2/recommendation_systems/labs/walsmodel/model.py:157: The name tf.placeholder is deprecated. Please use tf.compat.v1.placeholder instead.\n",
      "\n",
      "WARNING:tensorflow:From /opt/conda/lib/python3.7/site-packages/tensorflow_core/contrib/learn/python/learn/estimators/estimator.py:1389: get_input_alternatives (from tensorflow.contrib.learn.python.learn.utils.saved_model_export_utils) is deprecated and will be removed in a future version.\n",
      "Instructions for updating:\n",
      "Switch to tf.estimator.Exporter and associated utilities.\n",
      "Traceback (most recent call last):\n",
      "  File \"/opt/conda/lib/python3.7/runpy.py\", line 193, in _run_module_as_main\n",
      "    \"__main__\", mod_spec)\n",
      "  File \"/opt/conda/lib/python3.7/runpy.py\", line 85, in _run_code\n",
      "    exec(code, run_globals)\n",
      "  File \"/home/jupyter/training-data-analyst/courses/machine_learning/deepdive2/recommendation_systems/labs/walsmodel/task.py\", line 98, in <module>\n",
      "    model.train_and_evaluate(arguments)\n",
      "  File \"/home/jupyter/training-data-analyst/courses/machine_learning/deepdive2/recommendation_systems/labs/walsmodel/model.py\", line 198, in train_and_evaluate\n",
      "    learn_runner.run(experiment_fn = experiment_fn, output_dir = args[\"output_dir\"])\n",
      "  File \"/opt/conda/lib/python3.7/site-packages/tensorflow_core/python/util/deprecation.py\", line 324, in new_func\n",
      "    return func(*args, **kwargs)\n",
      "  File \"/opt/conda/lib/python3.7/site-packages/tensorflow_core/contrib/learn/python/learn/learn_runner.py\", line 225, in run\n",
      "    return _execute_schedule(experiment, schedule)\n",
      "  File \"/opt/conda/lib/python3.7/site-packages/tensorflow_core/contrib/learn/python/learn/learn_runner.py\", line 52, in _execute_schedule\n",
      "    return task()\n",
      "  File \"/opt/conda/lib/python3.7/site-packages/tensorflow_core/contrib/learn/python/learn/experiment.py\", line 688, in train_and_evaluate\n",
      "    export_results = self._maybe_export(eval_result)\n",
      "  File \"/opt/conda/lib/python3.7/site-packages/tensorflow_core/contrib/learn/python/learn/experiment.py\", line 809, in _maybe_export\n",
      "    eval_result=eval_result))\n",
      "  File \"/opt/conda/lib/python3.7/site-packages/tensorflow_core/contrib/learn/python/learn/export_strategy.py\", line 110, in export\n",
      "    return self.export_fn(estimator, export_path, **kwargs)\n",
      "  File \"/opt/conda/lib/python3.7/site-packages/tensorflow_core/contrib/learn/python/learn/utils/saved_model_export_utils.py\", line 479, in export_fn\n",
      "    strip_default_attrs=strip_default_attrs)\n",
      "  File \"/opt/conda/lib/python3.7/site-packages/tensorflow_core/contrib/learn/python/learn/estimators/estimator.py\", line 1400, in export_savedmodel\n",
      "    model_fn_lib.ModeKeys.INFER)\n",
      "  File \"/opt/conda/lib/python3.7/site-packages/tensorflow_core/contrib/learn/python/learn/estimators/estimator.py\", line 1228, in _call_model_fn\n",
      "    model_fn_results = self._model_fn(features, labels, **kwargs)\n",
      "  File \"/opt/conda/lib/python3.7/site-packages/tensorflow_core/contrib/factorization/python/ops/wals.py\", line 338, in _wals_factorization_model_function\n",
      "    get_col_projection)\n",
      "  File \"/opt/conda/lib/python3.7/site-packages/tensorflow_core/python/util/deprecation.py\", line 507, in new_func\n",
      "    return func(*args, **kwargs)\n",
      "  File \"/opt/conda/lib/python3.7/site-packages/tensorflow_core/python/ops/control_flow_ops.py\", line 1224, in cond\n",
      "    orig_res_t, res_t = context_t.BuildCondBranch(true_fn)\n",
      "  File \"/opt/conda/lib/python3.7/site-packages/tensorflow_core/python/ops/control_flow_ops.py\", line 1061, in BuildCondBranch\n",
      "    original_result = fn()\n",
      "  File \"/opt/conda/lib/python3.7/site-packages/tensorflow_core/contrib/factorization/python/ops/wals.py\", line 326, in get_row_projection\n",
      "    transpose_input=False)\n",
      "  File \"/opt/conda/lib/python3.7/site-packages/tensorflow_core/contrib/factorization/python/ops/factorization_ops.py\", line 773, in project_row_factors\n",
      "    row_weights=projection_weights)[0]\n",
      "  File \"/opt/conda/lib/python3.7/site-packages/tensorflow_core/contrib/factorization/python/ops/factorization_ops.py\", line 934, in _process_input_helper\n",
      "    lambda: math_ops.cast(row_weights, dtypes.float32))\n",
      "  File \"/opt/conda/lib/python3.7/site-packages/tensorflow_core/python/util/deprecation.py\", line 507, in new_func\n",
      "    return func(*args, **kwargs)\n",
      "  File \"/opt/conda/lib/python3.7/site-packages/tensorflow_core/python/ops/control_flow_ops.py\", line 1224, in cond\n",
      "    orig_res_t, res_t = context_t.BuildCondBranch(true_fn)\n",
      "  File \"/opt/conda/lib/python3.7/site-packages/tensorflow_core/python/ops/control_flow_ops.py\", line 1061, in BuildCondBranch\n",
      "    original_result = fn()\n",
      "  File \"/opt/conda/lib/python3.7/site-packages/tensorflow_core/contrib/factorization/python/ops/factorization_ops.py\", line 933, in <lambda>\n",
      "    lambda: (array_ops.ones([num_indices]) * row_weights),\n",
      "  File \"/opt/conda/lib/python3.7/site-packages/tensorflow_core/python/ops/array_ops.py\", line 2560, in ones\n",
      "    output = _constant_if_small(one, shape, dtype, name)\n",
      "  File \"/opt/conda/lib/python3.7/site-packages/tensorflow_core/python/ops/array_ops.py\", line 2295, in _constant_if_small\n",
      "    if np.prod(shape) < 1000:\n",
      "  File \"<__array_function__ internals>\", line 6, in prod\n",
      "  File \"/opt/conda/lib/python3.7/site-packages/numpy/core/fromnumeric.py\", line 3052, in prod\n",
      "    keepdims=keepdims, initial=initial, where=where)\n",
      "  File \"/opt/conda/lib/python3.7/site-packages/numpy/core/fromnumeric.py\", line 86, in _wrapreduction\n",
      "    return ufunc.reduce(obj, axis, dtype, out, **passkwargs)\n",
      "  File \"/opt/conda/lib/python3.7/site-packages/tensorflow_core/python/framework/ops.py\", line 736, in __array__\n",
      "    \" array.\".format(self.name))\n",
      "NotImplementedError: Cannot convert a symbolic Tensor (cond_1/strided_slice_4:0) to a numpy array.\n"
     ]
    },
    {
     "ename": "CalledProcessError",
     "evalue": "Command 'b'rm -rf wals.tar.gz wals_trained\\ngcloud ai-platform local train \\\\\\n    --module-name=walsmodel.task \\\\\\n    --package-path=${PWD}/walsmodel \\\\\\n    -- \\\\\\n    --output_dir=${PWD}/wals_trained \\\\\\n    --input_path=${PWD}/data \\\\\\n    --num_epochs=0.01 --nitems=${NITEMS} --nusers=${NUSERS} \\\\\\n    --job-dir=./tmp\\n'' returned non-zero exit status 1.",
     "output_type": "error",
     "traceback": [
      "\u001b[0;31m---------------------------------------------------------------------------\u001b[0m",
      "\u001b[0;31mCalledProcessError\u001b[0m                        Traceback (most recent call last)",
      "\u001b[0;32m/tmp/ipykernel_2317/806600591.py\u001b[0m in \u001b[0;36m<module>\u001b[0;34m\u001b[0m\n\u001b[0;32m----> 1\u001b[0;31m \u001b[0mget_ipython\u001b[0m\u001b[0;34m(\u001b[0m\u001b[0;34m)\u001b[0m\u001b[0;34m.\u001b[0m\u001b[0mrun_cell_magic\u001b[0m\u001b[0;34m(\u001b[0m\u001b[0;34m'bash'\u001b[0m\u001b[0;34m,\u001b[0m \u001b[0;34m''\u001b[0m\u001b[0;34m,\u001b[0m \u001b[0;34m'rm -rf wals.tar.gz wals_trained\\ngcloud ai-platform local train \\\\\\n    --module-name=walsmodel.task \\\\\\n    --package-path=${PWD}/walsmodel \\\\\\n    -- \\\\\\n    --output_dir=${PWD}/wals_trained \\\\\\n    --input_path=${PWD}/data \\\\\\n    --num_epochs=0.01 --nitems=${NITEMS} --nusers=${NUSERS} \\\\\\n    --job-dir=./tmp\\n'\u001b[0m\u001b[0;34m)\u001b[0m\u001b[0;34m\u001b[0m\u001b[0;34m\u001b[0m\u001b[0m\n\u001b[0m",
      "\u001b[0;32m/opt/conda/lib/python3.7/site-packages/IPython/core/interactiveshell.py\u001b[0m in \u001b[0;36mrun_cell_magic\u001b[0;34m(self, magic_name, line, cell)\u001b[0m\n\u001b[1;32m   2470\u001b[0m             \u001b[0;32mwith\u001b[0m \u001b[0mself\u001b[0m\u001b[0;34m.\u001b[0m\u001b[0mbuiltin_trap\u001b[0m\u001b[0;34m:\u001b[0m\u001b[0;34m\u001b[0m\u001b[0;34m\u001b[0m\u001b[0m\n\u001b[1;32m   2471\u001b[0m                 \u001b[0margs\u001b[0m \u001b[0;34m=\u001b[0m \u001b[0;34m(\u001b[0m\u001b[0mmagic_arg_s\u001b[0m\u001b[0;34m,\u001b[0m \u001b[0mcell\u001b[0m\u001b[0;34m)\u001b[0m\u001b[0;34m\u001b[0m\u001b[0;34m\u001b[0m\u001b[0m\n\u001b[0;32m-> 2472\u001b[0;31m                 \u001b[0mresult\u001b[0m \u001b[0;34m=\u001b[0m \u001b[0mfn\u001b[0m\u001b[0;34m(\u001b[0m\u001b[0;34m*\u001b[0m\u001b[0margs\u001b[0m\u001b[0;34m,\u001b[0m \u001b[0;34m**\u001b[0m\u001b[0mkwargs\u001b[0m\u001b[0;34m)\u001b[0m\u001b[0;34m\u001b[0m\u001b[0;34m\u001b[0m\u001b[0m\n\u001b[0m\u001b[1;32m   2473\u001b[0m             \u001b[0;32mreturn\u001b[0m \u001b[0mresult\u001b[0m\u001b[0;34m\u001b[0m\u001b[0;34m\u001b[0m\u001b[0m\n\u001b[1;32m   2474\u001b[0m \u001b[0;34m\u001b[0m\u001b[0m\n",
      "\u001b[0;32m/opt/conda/lib/python3.7/site-packages/IPython/core/magics/script.py\u001b[0m in \u001b[0;36mnamed_script_magic\u001b[0;34m(line, cell)\u001b[0m\n\u001b[1;32m    140\u001b[0m             \u001b[0;32melse\u001b[0m\u001b[0;34m:\u001b[0m\u001b[0;34m\u001b[0m\u001b[0;34m\u001b[0m\u001b[0m\n\u001b[1;32m    141\u001b[0m                 \u001b[0mline\u001b[0m \u001b[0;34m=\u001b[0m \u001b[0mscript\u001b[0m\u001b[0;34m\u001b[0m\u001b[0;34m\u001b[0m\u001b[0m\n\u001b[0;32m--> 142\u001b[0;31m             \u001b[0;32mreturn\u001b[0m \u001b[0mself\u001b[0m\u001b[0;34m.\u001b[0m\u001b[0mshebang\u001b[0m\u001b[0;34m(\u001b[0m\u001b[0mline\u001b[0m\u001b[0;34m,\u001b[0m \u001b[0mcell\u001b[0m\u001b[0;34m)\u001b[0m\u001b[0;34m\u001b[0m\u001b[0;34m\u001b[0m\u001b[0m\n\u001b[0m\u001b[1;32m    143\u001b[0m \u001b[0;34m\u001b[0m\u001b[0m\n\u001b[1;32m    144\u001b[0m         \u001b[0;31m# write a basic docstring:\u001b[0m\u001b[0;34m\u001b[0m\u001b[0;34m\u001b[0m\u001b[0;34m\u001b[0m\u001b[0m\n",
      "\u001b[0;32m/opt/conda/lib/python3.7/site-packages/decorator.py\u001b[0m in \u001b[0;36mfun\u001b[0;34m(*args, **kw)\u001b[0m\n\u001b[1;32m    230\u001b[0m             \u001b[0;32mif\u001b[0m \u001b[0;32mnot\u001b[0m \u001b[0mkwsyntax\u001b[0m\u001b[0;34m:\u001b[0m\u001b[0;34m\u001b[0m\u001b[0;34m\u001b[0m\u001b[0m\n\u001b[1;32m    231\u001b[0m                 \u001b[0margs\u001b[0m\u001b[0;34m,\u001b[0m \u001b[0mkw\u001b[0m \u001b[0;34m=\u001b[0m \u001b[0mfix\u001b[0m\u001b[0;34m(\u001b[0m\u001b[0margs\u001b[0m\u001b[0;34m,\u001b[0m \u001b[0mkw\u001b[0m\u001b[0;34m,\u001b[0m \u001b[0msig\u001b[0m\u001b[0;34m)\u001b[0m\u001b[0;34m\u001b[0m\u001b[0;34m\u001b[0m\u001b[0m\n\u001b[0;32m--> 232\u001b[0;31m             \u001b[0;32mreturn\u001b[0m \u001b[0mcaller\u001b[0m\u001b[0;34m(\u001b[0m\u001b[0mfunc\u001b[0m\u001b[0;34m,\u001b[0m \u001b[0;34m*\u001b[0m\u001b[0;34m(\u001b[0m\u001b[0mextras\u001b[0m \u001b[0;34m+\u001b[0m \u001b[0margs\u001b[0m\u001b[0;34m)\u001b[0m\u001b[0;34m,\u001b[0m \u001b[0;34m**\u001b[0m\u001b[0mkw\u001b[0m\u001b[0;34m)\u001b[0m\u001b[0;34m\u001b[0m\u001b[0;34m\u001b[0m\u001b[0m\n\u001b[0m\u001b[1;32m    233\u001b[0m     \u001b[0mfun\u001b[0m\u001b[0;34m.\u001b[0m\u001b[0m__name__\u001b[0m \u001b[0;34m=\u001b[0m \u001b[0mfunc\u001b[0m\u001b[0;34m.\u001b[0m\u001b[0m__name__\u001b[0m\u001b[0;34m\u001b[0m\u001b[0;34m\u001b[0m\u001b[0m\n\u001b[1;32m    234\u001b[0m     \u001b[0mfun\u001b[0m\u001b[0;34m.\u001b[0m\u001b[0m__doc__\u001b[0m \u001b[0;34m=\u001b[0m \u001b[0mfunc\u001b[0m\u001b[0;34m.\u001b[0m\u001b[0m__doc__\u001b[0m\u001b[0;34m\u001b[0m\u001b[0;34m\u001b[0m\u001b[0m\n",
      "\u001b[0;32m/opt/conda/lib/python3.7/site-packages/IPython/core/magic.py\u001b[0m in \u001b[0;36m<lambda>\u001b[0;34m(f, *a, **k)\u001b[0m\n\u001b[1;32m    185\u001b[0m     \u001b[0;31m# but it's overkill for just that one bit of state.\u001b[0m\u001b[0;34m\u001b[0m\u001b[0;34m\u001b[0m\u001b[0;34m\u001b[0m\u001b[0m\n\u001b[1;32m    186\u001b[0m     \u001b[0;32mdef\u001b[0m \u001b[0mmagic_deco\u001b[0m\u001b[0;34m(\u001b[0m\u001b[0marg\u001b[0m\u001b[0;34m)\u001b[0m\u001b[0;34m:\u001b[0m\u001b[0;34m\u001b[0m\u001b[0;34m\u001b[0m\u001b[0m\n\u001b[0;32m--> 187\u001b[0;31m         \u001b[0mcall\u001b[0m \u001b[0;34m=\u001b[0m \u001b[0;32mlambda\u001b[0m \u001b[0mf\u001b[0m\u001b[0;34m,\u001b[0m \u001b[0;34m*\u001b[0m\u001b[0ma\u001b[0m\u001b[0;34m,\u001b[0m \u001b[0;34m**\u001b[0m\u001b[0mk\u001b[0m\u001b[0;34m:\u001b[0m \u001b[0mf\u001b[0m\u001b[0;34m(\u001b[0m\u001b[0;34m*\u001b[0m\u001b[0ma\u001b[0m\u001b[0;34m,\u001b[0m \u001b[0;34m**\u001b[0m\u001b[0mk\u001b[0m\u001b[0;34m)\u001b[0m\u001b[0;34m\u001b[0m\u001b[0;34m\u001b[0m\u001b[0m\n\u001b[0m\u001b[1;32m    188\u001b[0m \u001b[0;34m\u001b[0m\u001b[0m\n\u001b[1;32m    189\u001b[0m         \u001b[0;32mif\u001b[0m \u001b[0mcallable\u001b[0m\u001b[0;34m(\u001b[0m\u001b[0marg\u001b[0m\u001b[0;34m)\u001b[0m\u001b[0;34m:\u001b[0m\u001b[0;34m\u001b[0m\u001b[0;34m\u001b[0m\u001b[0m\n",
      "\u001b[0;32m/opt/conda/lib/python3.7/site-packages/IPython/core/magics/script.py\u001b[0m in \u001b[0;36mshebang\u001b[0;34m(self, line, cell)\u001b[0m\n\u001b[1;32m    243\u001b[0m             \u001b[0msys\u001b[0m\u001b[0;34m.\u001b[0m\u001b[0mstderr\u001b[0m\u001b[0;34m.\u001b[0m\u001b[0mflush\u001b[0m\u001b[0;34m(\u001b[0m\u001b[0;34m)\u001b[0m\u001b[0;34m\u001b[0m\u001b[0;34m\u001b[0m\u001b[0m\n\u001b[1;32m    244\u001b[0m         \u001b[0;32mif\u001b[0m \u001b[0margs\u001b[0m\u001b[0;34m.\u001b[0m\u001b[0mraise_error\u001b[0m \u001b[0;32mand\u001b[0m \u001b[0mp\u001b[0m\u001b[0;34m.\u001b[0m\u001b[0mreturncode\u001b[0m\u001b[0;34m!=\u001b[0m\u001b[0;36m0\u001b[0m\u001b[0;34m:\u001b[0m\u001b[0;34m\u001b[0m\u001b[0;34m\u001b[0m\u001b[0m\n\u001b[0;32m--> 245\u001b[0;31m             \u001b[0;32mraise\u001b[0m \u001b[0mCalledProcessError\u001b[0m\u001b[0;34m(\u001b[0m\u001b[0mp\u001b[0m\u001b[0;34m.\u001b[0m\u001b[0mreturncode\u001b[0m\u001b[0;34m,\u001b[0m \u001b[0mcell\u001b[0m\u001b[0;34m,\u001b[0m \u001b[0moutput\u001b[0m\u001b[0;34m=\u001b[0m\u001b[0mout\u001b[0m\u001b[0;34m,\u001b[0m \u001b[0mstderr\u001b[0m\u001b[0;34m=\u001b[0m\u001b[0merr\u001b[0m\u001b[0;34m)\u001b[0m\u001b[0;34m\u001b[0m\u001b[0;34m\u001b[0m\u001b[0m\n\u001b[0m\u001b[1;32m    246\u001b[0m \u001b[0;34m\u001b[0m\u001b[0m\n\u001b[1;32m    247\u001b[0m     \u001b[0;32mdef\u001b[0m \u001b[0m_run_script\u001b[0m\u001b[0;34m(\u001b[0m\u001b[0mself\u001b[0m\u001b[0;34m,\u001b[0m \u001b[0mp\u001b[0m\u001b[0;34m,\u001b[0m \u001b[0mcell\u001b[0m\u001b[0;34m,\u001b[0m \u001b[0mto_close\u001b[0m\u001b[0;34m)\u001b[0m\u001b[0;34m:\u001b[0m\u001b[0;34m\u001b[0m\u001b[0;34m\u001b[0m\u001b[0m\n",
      "\u001b[0;31mCalledProcessError\u001b[0m: Command 'b'rm -rf wals.tar.gz wals_trained\\ngcloud ai-platform local train \\\\\\n    --module-name=walsmodel.task \\\\\\n    --package-path=${PWD}/walsmodel \\\\\\n    -- \\\\\\n    --output_dir=${PWD}/wals_trained \\\\\\n    --input_path=${PWD}/data \\\\\\n    --num_epochs=0.01 --nitems=${NITEMS} --nusers=${NUSERS} \\\\\\n    --job-dir=./tmp\\n'' returned non-zero exit status 1."
     ]
    }
   ],
   "source": [
    "%%bash\n",
    "rm -rf wals.tar.gz wals_trained\n",
    "gcloud ai-platform local train \\\n",
    "    --module-name=walsmodel.task \\\n",
    "    --package-path=${PWD}/walsmodel \\\n",
    "    -- \\\n",
    "    --output_dir=${PWD}/wals_trained \\\n",
    "    --input_path=${PWD}/data \\\n",
    "    --num_epochs=0.01 --nitems=${NITEMS} --nusers=${NUSERS} \\\n",
    "    --job-dir=./tmp"
   ]
  },
  {
   "cell_type": "markdown",
   "metadata": {},
   "source": [
    "## Get row and column factors\n",
    "\n",
    "Once you have a trained WALS model, you can get row and column factors (user and item embeddings) from the checkpoint file. You'll look at how to use these in the section on building a recommendation system using deep neural networks."
   ]
  },
  {
   "cell_type": "code",
   "execution_count": 36,
   "metadata": {},
   "outputs": [],
   "source": [
    "def get_factors(args):\n",
    "    with tf.Session() as sess:\n",
    "        estimator = tf.contrib.factorization.WALSMatrixFactorization(\n",
    "            num_rows = args[\"nusers\"], \n",
    "            num_cols = args[\"nitems\"],\n",
    "            embedding_dimension = args[\"n_embeds\"],\n",
    "            model_dir = args[\"output_dir\"])\n",
    "        \n",
    "        row_factors = estimator.get_row_factors()[0]\n",
    "        col_factors = estimator.get_col_factors()[0]\n",
    "    return row_factors, col_factors"
   ]
  },
  {
   "cell_type": "code",
   "execution_count": 37,
   "metadata": {},
   "outputs": [
    {
     "name": "stdout",
     "output_type": "stream",
     "text": [
      "/home/jupyter/training-data-analyst/courses/machine_learning/deepdive2/recommendation_systems/labs/wals_trained\n"
     ]
    }
   ],
   "source": [
    "%%bash\n",
    "echo $PWD/wals_trained"
   ]
  },
  {
   "cell_type": "code",
   "execution_count": 39,
   "metadata": {},
   "outputs": [
    {
     "name": "stdout",
     "output_type": "stream",
     "text": [
      "INFO:tensorflow:Using default config.\n",
      "INFO:tensorflow:Using config: {'_task_type': None, '_task_id': 0, '_cluster_spec': <tensorflow.python.training.server_lib.ClusterSpec object at 0x7f94bc2fdb90>, '_master': '', '_num_ps_replicas': 0, '_num_worker_replicas': 0, '_environment': 'local', '_is_chief': True, '_evaluation_master': '', '_train_distribute': None, '_eval_distribute': None, '_experimental_max_worker_delay_secs': None, '_device_fn': None, '_tf_config': gpu_options {\n",
      "  per_process_gpu_memory_fraction: 1.0\n",
      "}\n",
      ", '_tf_random_seed': None, '_save_summary_steps': 100, '_save_checkpoints_secs': 600, '_log_step_count_steps': 100, '_protocol': None, '_session_config': None, '_save_checkpoints_steps': None, '_keep_checkpoint_max': 5, '_keep_checkpoint_every_n_hours': 10000, '_model_dir': '/home/jupyter/training-data-analyst/courses/machine_learning/deepdive2/recommendation_systems/labs/wals_trained', '_session_creation_timeout_secs': 7200}\n",
      "[[-3.04099172e-04 -6.92406320e-05  3.68367386e-04  5.55545208e-04\n",
      "  -8.81654094e-04 -3.37013335e-04  5.07003278e-04  1.52582640e-03\n",
      "   3.04217392e-04 -4.67161968e-04]\n",
      " [-7.32862041e-04 -5.50373166e-04 -3.69679742e-03  1.40907697e-03\n",
      "  -2.78982800e-03  3.00060841e-03  8.40246095e-04 -1.60006864e-03\n",
      "   1.38381519e-03 -1.21648936e-03]\n",
      " [-2.77559040e-04  1.67029750e-04 -1.11246896e-04 -6.33446616e-05\n",
      "  -9.34160344e-05  3.96297779e-04 -8.29988930e-05  1.28872518e-04\n",
      "   1.18565848e-04 -6.08355971e-04]]\n",
      "[[ 0.6172119  -1.037691    1.4960924   1.3634641  -0.9753437   0.7194815\n",
      "  -0.7780359   0.5683272   0.07080027 -0.19543381]\n",
      " [-0.25382704 -0.7324129  -2.7172933   1.1418802  -1.965875    1.8038951\n",
      "   0.6843683  -1.3613935   1.0050962  -0.1787552 ]\n",
      " [-0.6260774   0.39341614 -0.27528232 -0.15355471 -0.21448697  0.91056776\n",
      "  -0.23975182  0.26002884  0.2912337  -1.3782679 ]]\n"
     ]
    }
   ],
   "source": [
    "args = {\n",
    "    \"output_dir\": \"/home/jupyter/training-data-analyst/courses/machine_learning/deepdive2/recommendation_systems/labs/wals_trained\", # ENTER THE OUTPUT FROM THE PREVIOUS CELL HERE\n",
    "    \"nitems\": NITEMS,\n",
    "    \"nusers\": NUSERS,\n",
    "    \"n_embeds\": 10\n",
    "  }\n",
    "\n",
    "user_embeddings, item_embeddings = get_factors(args)\n",
    "print(user_embeddings[:3])\n",
    "print(item_embeddings[:3])"
   ]
  },
  {
   "cell_type": "markdown",
   "metadata": {},
   "source": [
    "You can visualize the embedding vectors using dimensional reduction techniques such as PCA."
   ]
  },
  {
   "cell_type": "code",
   "execution_count": 41,
   "metadata": {},
   "outputs": [
    {
     "data": {
      "text/plain": [
       "<mpl_toolkits.mplot3d.art3d.Path3DCollection at 0x7f94bbed7b50>"
      ]
     },
     "execution_count": 41,
     "metadata": {},
     "output_type": "execute_result"
    },
    {
     "data": {
      "image/png": "[encoded data removed]",
      "text/plain": [
       "<Figure size 800x800 with 1 Axes>"
      ]
     },
     "metadata": {},
     "output_type": "display_data"
    }
   ],
   "source": [
    "import matplotlib.pyplot as plt\n",
    "from mpl_toolkits.mplot3d import Axes3D\n",
    "from sklearn.decomposition import PCA\n",
    "\n",
    "pca = PCA(n_components = 3)\n",
    "pca.fit(user_embeddings)\n",
    "# TODO 3: Apply the mapping (transform) to user embeddings\n",
    "user_embeddings_pca = pca.transform(user_embeddings)\n",
    "\n",
    "fig = plt.figure(figsize = (8,8))\n",
    "ax = fig.add_subplot(111, projection = \"3d\")\n",
    "xs, ys, zs = user_embeddings_pca[::150].T\n",
    "ax.scatter(xs, ys, zs)"
   ]
  },
  {
   "cell_type": "markdown",
   "metadata": {
    "deletable": true,
    "editable": true
   },
   "source": [
    "## OPTIONAL: Run on Cloud"
   ]
  },
  {
   "cell_type": "code",
   "execution_count": 42,
   "metadata": {
    "collapsed": false,
    "deletable": true,
    "editable": true,
    "jupyter": {
     "outputs_hidden": false
    }
   },
   "outputs": [
    {
     "name": "stderr",
     "output_type": "stream",
     "text": [
      "Copying file://data/collab_mapped.csv [Content-Type=text/csv]...\n",
      "Copying file://data/collab_raw.csv [Content-Type=text/csv]...                   \n",
      "Copying file://data/items.csv [Content-Type=text/csv]...                        \n",
      "Copying file://data/items_for_user [Content-Type=application/octet-stream]...   \n",
      "Copying file://data/users.csv [Content-Type=text/csv]...                        \n",
      "Copying file://data/users_for_item [Content-Type=application/octet-stream]...   \n",
      "- [6/6 files][ 35.4 MiB/ 35.4 MiB] 100% Done                                    \n",
      "Operation completed over 6 objects/35.4 MiB.                                     \n"
     ]
    }
   ],
   "source": [
    "%%bash\n",
    "gsutil -m cp data/* gs://${BUCKET}/wals/data"
   ]
  },
  {
   "cell_type": "code",
   "execution_count": 44,
   "metadata": {
    "collapsed": false,
    "deletable": true,
    "editable": true,
    "jupyter": {
     "outputs_hidden": false
    }
   },
   "outputs": [
    {
     "name": "stdout",
     "output_type": "stream",
     "text": [
      "gs://qwiklabs-gcp-02-8e309b272bc5/wals/model_trained us-central1 wals_230729_033229\n",
      "jobId: wals_230729_033229\n",
      "state: QUEUED\n"
     ]
    },
    {
     "name": "stderr",
     "output_type": "stream",
     "text": [
      "CommandException: 1 files/objects could not be removed.\n",
      "Job [wals_230729_033229] submitted successfully.\n",
      "Your job is still active. You may view the status of your job with the command\n",
      "\n",
      "  $ gcloud ai-platform jobs describe wals_230729_033229\n",
      "\n",
      "or continue streaming the logs with the command\n",
      "\n",
      "  $ gcloud ai-platform jobs stream-logs wals_230729_033229\n"
     ]
    }
   ],
   "source": [
    "%%bash\n",
    "OUTDIR=gs://${BUCKET}/wals/model_trained\n",
    "JOBNAME=wals_$(date -u +%y%m%d_%H%M%S)\n",
    "echo $OUTDIR $REGION $JOBNAME\n",
    "gsutil -m rm -rf $OUTDIR\n",
    "gcloud ai-platform jobs submit training $JOBNAME \\\n",
    "    --region=$REGION \\\n",
    "    --module-name=walsmodel.task \\\n",
    "    --package-path=${PWD}/walsmodel \\\n",
    "    --job-dir=$OUTDIR \\\n",
    "    --staging-bucket=gs://$BUCKET \\\n",
    "    --scale-tier=BASIC \\\n",
    "    --runtime-version=$TFVERSION \\\n",
    "    -- \\\n",
    "    --output_dir=$OUTDIR \\\n",
    "    --input_path=gs://${BUCKET}/wals/data \\\n",
    "    --num_epochs=10 --nitems=${NITEMS} --nusers=${NUSERS} "
   ]
  },
  {
   "cell_type": "markdown",
   "metadata": {
    "deletable": true,
    "editable": true
   },
   "source": [
    "This will take <b>10 minutes</b> to complete. Rerun the above command until the jobs gets submitted."
   ]
  },
  {
   "cell_type": "markdown",
   "metadata": {
    "deletable": true,
    "editable": true
   },
   "source": [
    "<pre>\n",
    "# Copyright 2022 Google Inc. All Rights Reserved.\n",
    "#\n",
    "# Licensed under the Apache License, Version 2.0 (the \"License\");\n",
    "# you may not use this file except in compliance with the License.\n",
    "# You may obtain a copy of the License at\n",
    "#\n",
    "#      http://www.apache.org/licenses/LICENSE-2.0\n",
    "#\n",
    "# Unless required by applicable law or agreed to in writing, software\n",
    "# distributed under the License is distributed on an \"AS IS\" BASIS,\n",
    "# WITHOUT WARRANTIES OR CONDITIONS OF ANY KIND, either express or implied.\n",
    "# See the License for the specific language governing permissions and\n",
    "# limitations under the License.\n",
    "</pre>"
   ]
  }
 ],
 "metadata": {
  "environment": {
   "kernel": "python3",
   "name": "tf-cpu.1-15.m100",
   "type": "gcloud",
   "uri": "gcr.io/deeplearning-platform-release/tf-cpu.1-15:m100"
  },
  "kernelspec": {
   "display_name": "Python 3",
   "language": "python",
   "name": "python3"
  },
  "language_info": {
   "codemirror_mode": {
    "name": "ipython",
    "version": 3
   },
   "file_extension": ".py",
   "mimetype": "text/x-python",
   "name": "python",
   "nbconvert_exporter": "python",
   "pygments_lexer": "ipython3",
   "version": "3.7.12"
  }
 },
 "nbformat": 4,
 "nbformat_minor": 4
}
